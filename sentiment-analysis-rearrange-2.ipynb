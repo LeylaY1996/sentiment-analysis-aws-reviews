{
  "nbformat": 4,
  "nbformat_minor": 0,
  "metadata": {
    "colab": {
      "provenance": [],
      "authorship_tag": "ABX9TyPCKT40bxGFT7tzh1UYU5GE",
      "include_colab_link": true
    },
    "kernelspec": {
      "name": "python3",
      "display_name": "Python 3"
    },
    "language_info": {
      "name": "python"
    }
  },
  "cells": [
    {
      "cell_type": "markdown",
      "metadata": {
        "id": "view-in-github",
        "colab_type": "text"
      },
      "source": [
        "<a href=\"https://colab.research.google.com/github/LeylaY1996/sentiment-analysis-aws-reviews/blob/main/sentiment-analysis-rearrange-2.ipynb\" target=\"_parent\"><img src=\"https://colab.research.google.com/assets/colab-badge.svg\" alt=\"Open In Colab\"/></a>"
      ]
    },
    {
      "cell_type": "code",
      "execution_count": 2,
      "metadata": {
        "colab": {
          "base_uri": "https://localhost:8080/"
        },
        "id": "eFjwov6sHxis",
        "outputId": "1cd79b40-fc0f-4907-fc05-651b73129e17"
      },
      "outputs": [
        {
          "output_type": "stream",
          "name": "stdout",
          "text": [
            "Orijinal veri seti boyutu: (3414, 10)\n",
            "Yeni veri seti boyutu: (683, 10)\n"
          ]
        }
      ],
      "source": [
        "import pandas as pd\n",
        "\n",
        "# Veri setini yükle\n",
        "csv_file_path = '/content/Reviews.csv'  # Dosya yolunuza göre güncelleyin\n",
        "df = pd.read_csv(csv_file_path, on_bad_lines='skip',quoting=3)  # daha yeni versiyonlar için\n",
        "# Veri setinin boyutunu yazdır\n",
        "print(\"Orijinal veri seti boyutu:\", df.shape)\n",
        "\n",
        "# %20 oranında rastgele bir alt küme seç\n",
        "sampled_df = df.sample(frac=0.2, random_state=42)  # random_state ile tekrarlanabilirlik sağlar\n",
        "\n",
        "# Yeni veri setinin boyutunu yazdır\n",
        "print(\"Yeni veri seti boyutu:\", sampled_df.shape)\n",
        "\n",
        "# İstediğiniz gibi veriyi kaydedin veya kullanın\n",
        "sampled_df.to_csv('sampled_reviews.csv', index=False)  # Yeni dosyayı kaydet"
      ]
    },
    {
      "cell_type": "code",
      "source": [
        "import pandas as pd\n",
        "import numpy as np\n",
        "import matplotlib.pyplot as plt\n",
        "import nltk\n",
        "from nltk.corpus import stopwords\n",
        "import string\n",
        "from scipy import stats\n",
        "\n",
        "# NLTK stopwords yükle\n",
        "nltk.download('stopwords')\n",
        "stop_words = set(stopwords.words('english'))\n",
        "punctuation = string.punctuation\n",
        "\n",
        "def clean_text(text):\n",
        "    \"\"\"Metni temizler: küçük harfe çevirir, noktalama işaretlerini kaldırır ve durak kelimeleri filtreler.\"\"\"\n",
        "    text = text.lower()  # Küçük harfe çevir\n",
        "    text = ''.join([char for char in text if char not in punctuation])  # Noktalama işaretlerini kaldır\n",
        "    text = ' '.join([word for word in text.split() if word not in stop_words])  # Durak kelimeleri filtrele\n",
        "    return text\n",
        "\n",
        "def prepare_data(csv_file):\n",
        "    \"\"\"Veri setini hazırlar: yükler, temizler ve etiketler.\"\"\"\n",
        "\n",
        "    # Veri setini yükle\n",
        "    df = pd.read_csv(csv_file)\n",
        "\n",
        "    # Gerekli sütunları seçin\n",
        "    df = df[['Text', 'Score']]\n",
        "\n",
        "    # Skorları ikili hale getirin (örneğin: 1-3 olumsuz, 4-5 olumlu)\n",
        "    df['Sentiment'] = df['Score'].apply(lambda x: 1 if x >= 4 else 0)\n",
        "\n",
        "    # Yorumları temizle\n",
        "    df['cleaned_review'] = df['Text'].apply(clean_text)\n",
        "\n",
        "    # Sadece temizlenmiş yorumlar ve duygu etiketlerini içeren DataFrame döndür\n",
        "    return df[['cleaned_review', 'Sentiment']]\n",
        "\n",
        "# Veriyi yükle ve hazırla\n",
        "csv_file_path = '/content/sampled_reviews.csv'  # Dosya yolunuza göre güncelleyin\n",
        "prepared_data = prepare_data(csv_file_path)\n",
        "\n",
        "# Veri dengesini sağlama\n",
        "# Olumlu ve olumsuz örneklerin sayısını bul\n",
        "positive_samples = prepared_data[prepared_data['Sentiment'] == 1]\n",
        "negative_samples = prepared_data[prepared_data['Sentiment'] == 0]\n",
        "\n",
        "# Minimum sayıda olan sınıfa göre dengeleme\n",
        "min_samples = min(len(positive_samples), len(negative_samples))\n",
        "balanced_data = pd.concat([positive_samples.sample(min_samples, random_state=42),\n",
        "                           negative_samples.sample(min_samples, random_state=42)])\n",
        "\n",
        "# Histogram çizme\n",
        "balanced_data['Sentiment'].value_counts().plot(kind='bar', color=['blue', 'orange'])\n",
        "plt.title('Sentiment Distribution')\n",
        "plt.xlabel('Sentiment')\n",
        "plt.ylabel('Frequency')\n",
        "plt.show()\n",
        "\n",
        "# Ortalama ve standart sapma hesaplama\n",
        "mean_length = balanced_data['cleaned_review'].apply(len).mean()\n",
        "std_length = balanced_data['cleaned_review'].apply(len).std()\n",
        "print(f\"Ortalama Yorum Uzunluğu: {mean_length}\")\n",
        "print(f\"Standart Sapma: {std_length}\")\n",
        "\n",
        "# Aykırı değer kontrolü (örneğin, yorum uzunluğuna göre aykırı değer)\n",
        "z_scores = np.abs(stats.zscore(balanced_data['cleaned_review'].apply(len)))\n",
        "balanced_data = balanced_data[(z_scores < 3)]\n",
        "\n",
        "print(\"Aykırı değerler çıkarıldıktan sonra veri seti boyutu:\", balanced_data.shape)"
      ],
      "metadata": {
        "colab": {
          "base_uri": "https://localhost:8080/",
          "height": 556
        },
        "id": "40gjfNHgI8OF",
        "outputId": "1c396356-fe8e-4a40-c001-fc83dff46b73"
      },
      "execution_count": 3,
      "outputs": [
        {
          "output_type": "stream",
          "name": "stderr",
          "text": [
            "[nltk_data] Downloading package stopwords to /root/nltk_data...\n",
            "[nltk_data]   Unzipping corpora/stopwords.zip.\n"
          ]
        },
        {
          "output_type": "display_data",
          "data": {
            "text/plain": [
              "<Figure size 640x480 with 1 Axes>"
            ],
            "image/png": "[encoded data removed]"
          },
          "metadata": {}
        },
        {
          "output_type": "stream",
          "name": "stdout",
          "text": [
            "Ortalama Yorum Uzunluğu: 140.94628099173553\n",
            "Standart Sapma: 94.14543136829516\n",
            "Aykırı değerler çıkarıldıktan sonra veri seti boyutu: (236, 2)\n"
          ]
        }
      ]
    },
    {
      "cell_type": "code",
      "source": [
        "from sklearn.model_selection import train_test_split\n",
        "from sklearn.feature_extraction.text import TfidfVectorizer\n",
        "from sklearn.svm import SVC\n",
        "from sklearn.metrics import classification_report, accuracy_score, confusion_matrix\n",
        "\n",
        "def svm_sentiment_analysis(df):\n",
        "    \"\"\"Verilen veri setinde SVM ile duygu analizi yapar ve sonuçları döner.\"\"\"\n",
        "\n",
        "    # Veriyi eğitim ve test setine ayır\n",
        "    X_train, X_test, y_train, y_test = train_test_split(df['cleaned_review'], df['Sentiment'], test_size=0.2, random_state=42)\n",
        "\n",
        "    # TF-IDF vektörleştirme\n",
        "    vectorizer = TfidfVectorizer()\n",
        "    X_train_tfidf = vectorizer.fit_transform(X_train)\n",
        "    X_test_tfidf = vectorizer.transform(X_test)\n",
        "\n",
        "    # SVM modelini oluştur ve eğit\n",
        "    model = SVC(kernel='linear')\n",
        "    model.fit(X_train_tfidf, y_train)\n",
        "\n",
        "    # Tahmin yap\n",
        "    y_pred = model.predict(X_test_tfidf)\n",
        "\n",
        "    # Sonuçları değerlendir\n",
        "    accuracy = accuracy_score(y_test, y_pred)\n",
        "    report = classification_report(y_test, y_pred)\n",
        "\n",
        "    # Karmaşıklık matrisi\n",
        "    cm = confusion_matrix(y_test, y_pred)\n",
        "\n",
        "    return accuracy, report, cm\n",
        "\n",
        "# SVM analizi\n",
        "accuracy, report, cm = svm_sentiment_analysis(prepared_data)\n",
        "\n",
        "print(\"Accuracy:\", accuracy)\n",
        "print(report)\n",
        "print(\"Confusion Matrix:\\n\", cm)"
      ],
      "metadata": {
        "colab": {
          "base_uri": "https://localhost:8080/"
        },
        "id": "Vdlly8k6JD-b",
        "outputId": "b0cb89b7-25a1-45e9-bb98-d0f803fba2b4"
      },
      "execution_count": 4,
      "outputs": [
        {
          "output_type": "stream",
          "name": "stdout",
          "text": [
            "Accuracy: 0.8467153284671532\n",
            "              precision    recall  f1-score   support\n",
            "\n",
            "           0       1.00      0.05      0.09        22\n",
            "           1       0.85      1.00      0.92       115\n",
            "\n",
            "    accuracy                           0.85       137\n",
            "   macro avg       0.92      0.52      0.50       137\n",
            "weighted avg       0.87      0.85      0.78       137\n",
            "\n",
            "Confusion Matrix:\n",
            " [[  1  21]\n",
            " [  0 115]]\n"
          ]
        }
      ]
    },
    {
      "cell_type": "code",
      "source": [
        "from sklearn.model_selection import train_test_split\n",
        "from sklearn.feature_extraction.text import TfidfVectorizer\n",
        "from sklearn.naive_bayes import MultinomialNB\n",
        "from sklearn.metrics import classification_report, accuracy_score, confusion_matrix\n",
        "\n",
        "def naive_bayes_sentiment_analysis(df):\n",
        "    \"\"\"Verilen veri setinde Naive Bayes ile duygu analizi yapar ve sonuçları döner.\"\"\"\n",
        "\n",
        "    # Veriyi eğitim ve test setine ayır\n",
        "    X_train, X_test, y_train, y_test = train_test_split(df['cleaned_review'], df['Sentiment'], test_size=0.2, random_state=42)\n",
        "\n",
        "    # TF-IDF vektörleştirme\n",
        "    vectorizer = TfidfVectorizer()\n",
        "    X_train_tfidf = vectorizer.fit_transform(X_train)\n",
        "    X_test_tfidf = vectorizer.transform(X_test)\n",
        "\n",
        "    # Naive Bayes modelini oluştur ve eğit\n",
        "    model = MultinomialNB()\n",
        "    model.fit(X_train_tfidf, y_train)\n",
        "\n",
        "    # Tahmin yap\n",
        "    y_pred = model.predict(X_test_tfidf)\n",
        "\n",
        "    # Sonuçları değerlendir\n",
        "    accuracy = accuracy_score(y_test, y_pred)\n",
        "    report = classification_report(y_test, y_pred, zero_division=1)\n",
        "\n",
        "    # Karmaşıklık matrisi\n",
        "    cm = confusion_matrix(y_test, y_pred)\n",
        "\n",
        "    return accuracy, report, cm\n",
        "\n",
        "# Naive Bayes analizi\n",
        "accuracy, report, cm = naive_bayes_sentiment_analysis(prepared_data)\n",
        "\n",
        "print(\"Accuracy:\", accuracy)\n",
        "print(report)\n",
        "print(\"Confusion Matrix:\\n\", cm)"
      ],
      "metadata": {
        "colab": {
          "base_uri": "https://localhost:8080/"
        },
        "id": "Zi1MXnl-Jdwt",
        "outputId": "36c67c99-11a0-4c2f-b4c8-407a269013af"
      },
      "execution_count": 6,
      "outputs": [
        {
          "output_type": "stream",
          "name": "stdout",
          "text": [
            "Accuracy: 0.8394160583941606\n",
            "              precision    recall  f1-score   support\n",
            "\n",
            "           0       1.00      0.00      0.00        22\n",
            "           1       0.84      1.00      0.91       115\n",
            "\n",
            "    accuracy                           0.84       137\n",
            "   macro avg       0.92      0.50      0.46       137\n",
            "weighted avg       0.87      0.84      0.77       137\n",
            "\n",
            "Confusion Matrix:\n",
            " [[  0  22]\n",
            " [  0 115]]\n"
          ]
        }
      ]
    },
    {
      "cell_type": "code",
      "source": [
        "import numpy as np\n",
        "from tensorflow.keras.preprocessing.sequence import pad_sequences\n",
        "from tensorflow.keras.models import Sequential\n",
        "from tensorflow.keras.layers import Embedding, LSTM, Dense\n",
        "from sklearn.model_selection import train_test_split\n",
        "from sklearn.preprocessing import LabelEncoder\n",
        "from sklearn.metrics import classification_report, confusion_matrix\n",
        "from sklearn.feature_extraction.text import TfidfVectorizer\n",
        "\n",
        "# RNN model fonksiyonu\n",
        "def rnn_sentiment_analysis(df):\n",
        "    \"\"\"Verilen veri setinde RNN (LSTM) ile duygu analizi yapar ve sonuçları döner.\"\"\"\n",
        "\n",
        "    # Etiketleri sayısal değerlere dönüştür\n",
        "    label_encoder = LabelEncoder()\n",
        "    df['Sentiment'] = label_encoder.fit_transform(df['Sentiment'])\n",
        "\n",
        "    # Veriyi eğitim ve test setine ayır\n",
        "    X_train, X_test, y_train, y_test = train_test_split(df['cleaned_review'], df['Sentiment'], test_size=0.2, random_state=42)\n",
        "\n",
        "    # Metni sayısal verilere dönüştür\n",
        "    vectorizer = TfidfVectorizer(max_features=5000)  # max_features ile öznitelik sayısını sınırlayın\n",
        "    X_train_tfidf = vectorizer.fit_transform(X_train).toarray()\n",
        "    X_test_tfidf = vectorizer.transform(X_test).toarray()\n",
        "\n",
        "    # RNN için veriyi uygun biçime getirin\n",
        "    max_length = 100  # Maximum uzunluk\n",
        "    X_train_padded = pad_sequences(X_train_tfidf, maxlen=max_length)\n",
        "    X_test_padded = pad_sequences(X_test_tfidf, maxlen=max_length)\n",
        "\n",
        "    # Modeli oluştur\n",
        "    model = Sequential()\n",
        "    model.add(Embedding(input_dim=5000, output_dim=128))  # input_length kaldırıldı\n",
        "    model.add(LSTM(128, dropout=0.2, recurrent_dropout=0.2))\n",
        "    model.add(Dense(1, activation='sigmoid'))\n",
        "\n",
        "    # Modeli derle\n",
        "    model.compile(loss='binary_crossentropy', optimizer='adam', metrics=['accuracy'])\n",
        "\n",
        "    # Modeli eğit\n",
        "    model.fit(X_train_padded, y_train, epochs=5, batch_size=64, validation_data=(X_test_padded, y_test))\n",
        "\n",
        "    # Test verisi üzerinde tahmin yap\n",
        "    y_pred = (model.predict(X_test_padded) > 0.5).astype(\"int32\").flatten()\n",
        "\n",
        "    # Sonuçları değerlendir\n",
        "    accuracy = np.mean(y_pred == y_test)\n",
        "    report = classification_report(y_test, y_pred, zero_division=1)\n",
        "    cm = confusion_matrix(y_test, y_pred)\n",
        "\n",
        "    return accuracy, report, cm\n",
        "\n",
        "# RNN analizi\n",
        "accuracy, report, cm = rnn_sentiment_analysis(prepared_data)\n",
        "print(\"Accuracy:\", accuracy)\n",
        "print(report)\n",
        "print(\"Confusion Matrix:\\n\", cm)"
      ],
      "metadata": {
        "colab": {
          "base_uri": "https://localhost:8080/"
        },
        "id": "RIomJUx5JgtY",
        "outputId": "c54901fe-75c1-4ca2-91de-db9fb62d76e4"
      },
      "execution_count": 7,
      "outputs": [
        {
          "output_type": "stream",
          "name": "stdout",
          "text": [
            "Epoch 1/5\n",
            "\u001b[1m9/9\u001b[0m \u001b[32m━━━━━━━━━━━━━━━━━━━━\u001b[0m\u001b[37m\u001b[0m \u001b[1m6s\u001b[0m 354ms/step - accuracy: 0.7295 - loss: 0.5969 - val_accuracy: 0.8394 - val_loss: 0.4444\n",
            "Epoch 2/5\n",
            "\u001b[1m9/9\u001b[0m \u001b[32m━━━━━━━━━━━━━━━━━━━━\u001b[0m\u001b[37m\u001b[0m \u001b[1m4s\u001b[0m 435ms/step - accuracy: 0.8142 - loss: 0.4995 - val_accuracy: 0.8394 - val_loss: 0.4496\n",
            "Epoch 3/5\n",
            "\u001b[1m9/9\u001b[0m \u001b[32m━━━━━━━━━━━━━━━━━━━━\u001b[0m\u001b[37m\u001b[0m \u001b[1m2s\u001b[0m 245ms/step - accuracy: 0.8151 - loss: 0.4791 - val_accuracy: 0.8394 - val_loss: 0.4406\n",
            "Epoch 4/5\n",
            "\u001b[1m9/9\u001b[0m \u001b[32m━━━━━━━━━━━━━━━━━━━━\u001b[0m\u001b[37m\u001b[0m \u001b[1m2s\u001b[0m 244ms/step - accuracy: 0.8220 - loss: 0.4711 - val_accuracy: 0.8394 - val_loss: 0.4458\n",
            "Epoch 5/5\n",
            "\u001b[1m9/9\u001b[0m \u001b[32m━━━━━━━━━━━━━━━━━━━━\u001b[0m\u001b[37m\u001b[0m \u001b[1m3s\u001b[0m 273ms/step - accuracy: 0.8093 - loss: 0.4860 - val_accuracy: 0.8394 - val_loss: 0.4410\n",
            "\u001b[1m5/5\u001b[0m \u001b[32m━━━━━━━━━━━━━━━━━━━━\u001b[0m\u001b[37m\u001b[0m \u001b[1m1s\u001b[0m 96ms/step\n",
            "Accuracy: 0.8394160583941606\n",
            "              precision    recall  f1-score   support\n",
            "\n",
            "           0       1.00      0.00      0.00        22\n",
            "           1       0.84      1.00      0.91       115\n",
            "\n",
            "    accuracy                           0.84       137\n",
            "   macro avg       0.92      0.50      0.46       137\n",
            "weighted avg       0.87      0.84      0.77       137\n",
            "\n",
            "Confusion Matrix:\n",
            " [[  0  22]\n",
            " [  0 115]]\n"
          ]
        }
      ]
    },
    {
      "cell_type": "code",
      "source": [
        "import pandas as pd\n",
        "from sklearn.metrics import accuracy_score, classification_report, confusion_matrix\n",
        "\n",
        "# Örnek bir duygu sözlüğü\n",
        "positive_words = {'good', 'great', 'excellent', 'happy', 'love', 'wonderful', 'amazing', 'fantastic'}\n",
        "negative_words = {'bad', 'terrible', 'horrible', 'sad', 'hate', 'awful', 'disappointing', 'poor'}\n",
        "\n",
        "def lexicon_based_sentiment_analysis(df):\n",
        "    \"\"\"Verilen veri setinde lexicon-based duygu analizi yapar.\"\"\"\n",
        "\n",
        "    def get_sentiment(text):\n",
        "        \"\"\"Metindeki kelimeleri analiz ederek duygu puanı döndürür.\"\"\"\n",
        "        words = text.split()\n",
        "        score = 0\n",
        "\n",
        "        for word in words:\n",
        "            if word in positive_words:\n",
        "                score += 1  # Pozitif kelime varsa puanı artır\n",
        "            elif word in negative_words:\n",
        "                score -= 1  # Negatif kelime varsa puanı azalt\n",
        "\n",
        "        return 1 if score > 0 else 0  # Pozitif ise 1, olumsuz ise 0 döndür\n",
        "\n",
        "    # Her bir yorum için duygu analizi yap\n",
        "    df['Lexicon_Sentiment'] = df['cleaned_review'].apply(get_sentiment)\n",
        "\n",
        "    # Doğruluğu hesapla\n",
        "    accuracy = accuracy_score(df['Sentiment'], df['Lexicon_Sentiment'])\n",
        "\n",
        "    # Sınıflandırma raporu ve karmaşıklık matrisi\n",
        "    report = classification_report(df['Sentiment'], df['Lexicon_Sentiment'])\n",
        "    cm = confusion_matrix(df['Sentiment'], df['Lexicon_Sentiment'])\n",
        "\n",
        "    return df[['cleaned_review', 'Sentiment', 'Lexicon_Sentiment']], accuracy, report, cm\n",
        "\n",
        "# Lexicon-based analizi\n",
        "lexicon_results, lexicon_accuracy, lexicon_report, lexicon_cm = lexicon_based_sentiment_analysis(prepared_data)\n",
        "\n",
        "# Sonuçları yazdır\n",
        "print(\"Lexicon-Based Accuracy:\", lexicon_accuracy)\n",
        "print(lexicon_report)\n",
        "print(\"Confusion Matrix:\\n\", lexicon_cm)\n",
        "print(lexicon_results.head())"
      ],
      "metadata": {
        "colab": {
          "base_uri": "https://localhost:8080/"
        },
        "id": "UlQj1UQXKOYn",
        "outputId": "ccfd781c-a8aa-4ad4-801d-00d4512748de"
      },
      "execution_count": 8,
      "outputs": [
        {
          "output_type": "stream",
          "name": "stdout",
          "text": [
            "Lexicon-Based Accuracy: 0.6734992679355783\n",
            "              precision    recall  f1-score   support\n",
            "\n",
            "           0       0.33      0.79      0.46       121\n",
            "           1       0.94      0.65      0.77       562\n",
            "\n",
            "    accuracy                           0.67       683\n",
            "   macro avg       0.63      0.72      0.61       683\n",
            "weighted avg       0.83      0.67      0.71       683\n",
            "\n",
            "Confusion Matrix:\n",
            " [[ 96  25]\n",
            " [198 364]]\n",
            "                                      cleaned_review  Sentiment  \\\n",
            "0  love ahmad tea earl grey wonderful tea afterno...          1   \n",
            "1  package arrived 3 days earlier said would fres...          0   \n",
            "2  dinner friends family saloon rte 46 entertainm...          1   \n",
            "3  serious cup joe yummynessbr turned least 3 fri...          1   \n",
            "4            enjoy treat low carb diet nice chip dip          1   \n",
            "\n",
            "   Lexicon_Sentiment  \n",
            "0                  1  \n",
            "1                  1  \n",
            "2                  0  \n",
            "3                  0  \n",
            "4                  0  \n"
          ]
        }
      ]
    },
    {
      "cell_type": "code",
      "source": [
        "import pandas as pd\n",
        "from sklearn.metrics import accuracy_score, classification_report, confusion_matrix\n",
        "\n",
        "# Örnek bir özellik ve ona bağlı duygu sözlüğü\n",
        "aspects = {\n",
        "    'hız': {'good', 'great', 'fast', 'quick', 'excellent', 'amazing', 'slow', 'not fast'},\n",
        "    'kalite': {'bad', 'poor', 'terrible', 'awful', 'good', 'excellent', 'not good'}\n",
        "}\n",
        "\n",
        "def aspect_based_sentiment_analysis(df):\n",
        "    \"\"\"Verilen veri setinde aspect-based duygu analizi yapar.\"\"\"\n",
        "\n",
        "    def get_aspect_sentiment(text):\n",
        "        \"\"\"Metindeki her bir özellik için duygu puanı döndürür.\"\"\"\n",
        "        words = text.split()\n",
        "        aspect_scores = {aspect: 0 for aspect in aspects.keys()}\n",
        "\n",
        "        for word in words:\n",
        "            for aspect, keywords in aspects.items():\n",
        "                if word in keywords:\n",
        "                    # Pozitif kelime için puanı artır\n",
        "                    aspect_scores[aspect] += 1 if 'not' not in word else -1\n",
        "\n",
        "        # Her bir bileşen için 1 (olumlu) veya 0 (olumsuz) döndür\n",
        "        return int(aspect_scores['hız'] > 0), int(aspect_scores['kalite'] > 0)\n",
        "\n",
        "    # Her bir yorum için aspect-based duygu analizi yap\n",
        "    df[['Aspect_Hız', 'Aspect_Kalite']] = df['cleaned_review'].apply(get_aspect_sentiment).apply(pd.Series)\n",
        "\n",
        "    # Doğruluk hesapla\n",
        "    accuracy_hız = accuracy_score(df['Sentiment'], df['Aspect_Hız'])\n",
        "    accuracy_kalite = accuracy_score(df['Sentiment'], df['Aspect_Kalite'])\n",
        "\n",
        "    # Sınıflandırma raporu ve karmaşıklık matrisleri\n",
        "    report_hız = classification_report(df['Sentiment'], df['Aspect_Hız'])\n",
        "    cm_hız = confusion_matrix(df['Sentiment'], df['Aspect_Hız'])\n",
        "\n",
        "    report_kalite = classification_report(df['Sentiment'], df['Aspect_Kalite'])\n",
        "    cm_kalite = confusion_matrix(df['Sentiment'], df['Aspect_Kalite'])\n",
        "\n",
        "    return df[['cleaned_review', 'Sentiment', 'Aspect_Hız', 'Aspect_Kalite']], accuracy_hız, accuracy_kalite, report_hız, report_kalite, cm_hız, cm_kalite\n",
        "\n",
        "# Aspect-based analizi\n",
        "aspect_results, aspect_accuracy_hız, aspect_accuracy_kalite, report_hız, report_kalite, cm_hız, cm_kalite = aspect_based_sentiment_analysis(prepared_data)\n",
        "\n",
        "# Sonuçları yazdır\n",
        "print(\"Aspect-Based Accuracy (Hız):\", aspect_accuracy_hız)\n",
        "print(report_hız)\n",
        "print(\"Confusion Matrix (Hız):\\n\", cm_hız)\n",
        "\n",
        "print(\"Aspect-Based Accuracy (Kalite):\", aspect_accuracy_kalite)\n",
        "print(report_kalite)\n",
        "print(\"Confusion Matrix (Kalite):\\n\", cm_kalite)\n",
        "\n",
        "print(aspect_results.head())"
      ],
      "metadata": {
        "colab": {
          "base_uri": "https://localhost:8080/"
        },
        "id": "fe_9NYHiLPvZ",
        "outputId": "eaa9abeb-3084-4fe8-c4fe-0029e743340b"
      },
      "execution_count": 9,
      "outputs": [
        {
          "output_type": "stream",
          "name": "stdout",
          "text": [
            "Aspect-Based Accuracy (Hız): 0.5651537335285505\n",
            "              precision    recall  f1-score   support\n",
            "\n",
            "           0       0.26      0.76      0.38       121\n",
            "           1       0.91      0.52      0.66       562\n",
            "\n",
            "    accuracy                           0.57       683\n",
            "   macro avg       0.58      0.64      0.52       683\n",
            "weighted avg       0.79      0.57      0.61       683\n",
            "\n",
            "Confusion Matrix (Hız):\n",
            " [[ 92  29]\n",
            " [268 294]]\n",
            "Aspect-Based Accuracy (Kalite): 0.36749633967789164\n",
            "              precision    recall  f1-score   support\n",
            "\n",
            "           0       0.18      0.74      0.29       121\n",
            "           1       0.84      0.29      0.43       562\n",
            "\n",
            "    accuracy                           0.37       683\n",
            "   macro avg       0.51      0.51      0.36       683\n",
            "weighted avg       0.72      0.37      0.40       683\n",
            "\n",
            "Confusion Matrix (Kalite):\n",
            " [[ 89  32]\n",
            " [400 162]]\n",
            "                                      cleaned_review  Sentiment  Aspect_Hız  \\\n",
            "0  love ahmad tea earl grey wonderful tea afterno...          1           0   \n",
            "1  package arrived 3 days earlier said would fres...          0           1   \n",
            "2  dinner friends family saloon rte 46 entertainm...          1           0   \n",
            "3  serious cup joe yummynessbr turned least 3 fri...          1           0   \n",
            "4            enjoy treat low carb diet nice chip dip          1           0   \n",
            "\n",
            "   Aspect_Kalite  \n",
            "0              0  \n",
            "1              1  \n",
            "2              0  \n",
            "3              0  \n",
            "4              0  \n"
          ]
        }
      ]
    }
  ]
}