{
  "cells": [
    {
      "cell_type": "markdown",
      "metadata": {
        "id": "view-in-github",
        "colab_type": "text"
      },
      "source": [
        "<a href=\"https://colab.research.google.com/github/LeylaY1996/sentiment-analysis-aws-reviews/blob/main/05122024.ipynb\" target=\"_parent\"><img src=\"https://colab.research.google.com/assets/colab-badge.svg\" alt=\"Open In Colab\"/></a>"
      ]
    },
    {
      "cell_type": "code",
      "execution_count": 1,
      "metadata": {
        "colab": {
          "base_uri": "https://localhost:8080/"
        },
        "id": "eFjwov6sHxis",
        "outputId": "82d8dfe0-bf50-49ec-fe24-10770aeff913"
      },
      "outputs": [
        {
          "output_type": "stream",
          "name": "stdout",
          "text": [
            "Orijinal veri seti boyutu: (149388, 10)\n",
            "Yeni veri seti boyutu: (74694, 10)\n"
          ]
        }
      ],
      "source": [
        "import pandas as pd\n",
        "\n",
        "# Veri setini yükle\n",
        "csv_file_path = '/content/Reviews-2.csv'  # Dosya yolunuza göre güncelleyin\n",
        "df = pd.read_csv(csv_file_path, on_bad_lines='skip', quoting=3, low_memory=False)  # daha yeni versiyonlar için\n",
        "# Veri setinin boyutunu yazdır\n",
        "print(\"Orijinal veri seti boyutu:\", df.shape)\n",
        "\n",
        "# %50 oranında rastgele bir alt küme seç\n",
        "sampled_df = df.sample(frac=0.5, random_state=42)  # random_state ile tekrarlanabilirlik sağlar\n",
        "\n",
        "# Yeni veri setinin boyutunu yazdır\n",
        "print(\"Yeni veri seti boyutu:\", sampled_df.shape)\n",
        "\n",
        "# İstediğiniz gibi veriyi kaydedin veya kullanın\n",
        "sampled_df.to_csv('sampled_reviews.csv', index=False)  # Yeni dosyayı kaydet"
      ]
    },
    {
      "cell_type": "code",
      "execution_count": 2,
      "metadata": {
        "colab": {
          "base_uri": "https://localhost:8080/",
          "height": 556
        },
        "id": "40gjfNHgI8OF",
        "outputId": "cb9632d3-7f88-47e8-9af8-c1e57778a621"
      },
      "outputs": [
        {
          "output_type": "stream",
          "name": "stderr",
          "text": [
            "[nltk_data] Downloading package stopwords to /root/nltk_data...\n",
            "[nltk_data]   Package stopwords is already up-to-date!\n"
          ]
        },
        {
          "output_type": "display_data",
          "data": {
            "text/plain": [
              "<Figure size 640x480 with 1 Axes>"
            ],
            "image/png": "[encoded data removed]"
          },
          "metadata": {}
        },
        {
          "output_type": "stream",
          "name": "stdout",
          "text": [
            "Ortalama Yorum Uzunluğu: 139.1112781175495\n",
            "Standart Sapma: 88.35745446652008\n",
            "Aykırı değerler çıkarıldıktan sonra veri seti boyutu: (18957, 2)\n"
          ]
        }
      ],
      "source": [
        "import numpy as np\n",
        "import matplotlib.pyplot as plt\n",
        "import nltk\n",
        "from nltk.corpus import stopwords\n",
        "import string\n",
        "from scipy import stats\n",
        "\n",
        "# NLTK stopwords yükle\n",
        "nltk.download('stopwords')\n",
        "stop_words = set(stopwords.words('english'))\n",
        "punctuation = string.punctuation\n",
        "\n",
        "def clean_text(text):\n",
        "    \"\"\"Metni temizler: küçük harfe çevirir, noktalama işaretlerini kaldırır ve durak kelimeleri filtreler.\"\"\"\n",
        "    text = text.lower()  # Küçük harfe çevir\n",
        "    text = ''.join([char for char in text if char not in punctuation])  # Noktalama işaretlerini kaldır\n",
        "    text = ' '.join([word for word in text.split() if word not in stop_words])  # Durak kelimeleri filtrele\n",
        "    return text\n",
        "\n",
        "def prepare_data(csv_file):\n",
        "    \"\"\"Veri setini hazırlar: yükler, temizler ve etiketler.\"\"\"\n",
        "\n",
        "    # Veri setini yükle\n",
        "    df = pd.read_csv(csv_file)\n",
        "\n",
        "    # Gerekli sütunları seçin\n",
        "    df = df[['Text', 'Score']]\n",
        "\n",
        "    # 3 değerine sahip satırları çıkarın\n",
        "    df = df[df['Score'] != 3]\n",
        "\n",
        "    # Skorları ikili hale getirin (örneğin: 1-2 olumsuz, 4-5 olumlu)\n",
        "    df['Sentiment'] = df['Score'].apply(lambda x: 1 if x >= 4 else 0)\n",
        "\n",
        "    # Yorumları temizle\n",
        "    df['cleaned_review'] = df['Text'].apply(clean_text)\n",
        "\n",
        "    # Sadece temizlenmiş yorumlar ve duygu etiketlerini içeren DataFrame döndür\n",
        "    return df[['cleaned_review', 'Sentiment']]\n",
        "\n",
        "# Veriyi yükle ve hazırla\n",
        "csv_file_path = '/content/sampled_reviews.csv'  # Dosya yolunuza göre güncelleyin\n",
        "prepared_data = prepare_data(csv_file_path)\n",
        "\n",
        "# Veri dengesini sağlama\n",
        "# Olumlu ve olumsuz örneklerin sayısını bul\n",
        "positive_samples = prepared_data[prepared_data['Sentiment'] == 1]\n",
        "negative_samples = prepared_data[prepared_data['Sentiment'] == 0]\n",
        "\n",
        "# Minimum sayıda olan sınıfa göre dengeleme\n",
        "min_samples = min(len(positive_samples), len(negative_samples))\n",
        "balanced_data = pd.concat([positive_samples.sample(min_samples, random_state=42),\n",
        "                           negative_samples.sample(min_samples, random_state=42)])\n",
        "\n",
        "# Histogram çizme\n",
        "balanced_data['Sentiment'].value_counts().plot(kind='bar', color=['blue', 'orange'])\n",
        "plt.title('Sentiment Distribution')\n",
        "plt.xlabel('Sentiment')\n",
        "plt.ylabel('Frequency')\n",
        "plt.show()\n",
        "\n",
        "# Ortalama ve standart sapma hesaplama\n",
        "mean_length = balanced_data['cleaned_review'].apply(len).mean()\n",
        "std_length = balanced_data['cleaned_review'].apply(len).std()\n",
        "print(f\"Ortalama Yorum Uzunluğu: {mean_length}\")\n",
        "print(f\"Standart Sapma: {std_length}\")\n",
        "\n",
        "# Aykırı değer kontrolü (örneğin, yorum uzunluğuna göre aykırı değer)\n",
        "z_scores = np.abs(stats.zscore(balanced_data['cleaned_review'].apply(len)))\n",
        "balanced_data = balanced_data[(z_scores < 3)]\n",
        "\n",
        "print(\"Aykırı değerler çıkarıldıktan sonra veri seti boyutu:\", balanced_data.shape)"
      ]
    },
    {
      "cell_type": "code",
      "execution_count": 3,
      "metadata": {
        "id": "-t_4S8CoTQfv"
      },
      "outputs": [],
      "source": [
        "# Confusion Matrix'i görselleştir\n",
        "def plot_confusion_matrix(cm):\n",
        "    \"\"\"Confusion matrix'i görselleştirir.\"\"\"\n",
        "    fig, ax = plt.subplots(figsize=(6,6))\n",
        "    ax.matshow(cm, cmap='Blues', alpha=0.6)\n",
        "    for (i, j), val in np.ndenumerate(cm):\n",
        "        ax.text(j, i, f'{val}', ha='center', va='center', color='red')\n",
        "    plt.xlabel('Predicted labels')\n",
        "    plt.ylabel('True labels')\n",
        "    plt.title('Confusion Matrix')\n",
        "    plt.show()"
      ]
    },
    {
      "cell_type": "code",
      "execution_count": 4,
      "metadata": {
        "id": "oSfUixjwuNaF"
      },
      "outputs": [],
      "source": [
        "from sklearn.feature_extraction.text import TfidfVectorizer\n",
        "\n",
        "def vectorize_text(train_text, test_text, max_features=10000, ngram_range=(1, 2)):\n",
        "    \"\"\"\n",
        "    Metinleri TF-IDF ile vektörize eder.\n",
        "    \"\"\"\n",
        "    vectorizer = TfidfVectorizer(max_features=max_features, ngram_range=ngram_range)\n",
        "    X_train_tfidf = vectorizer.fit_transform(train_text)\n",
        "    X_test_tfidf = vectorizer.transform(test_text)\n",
        "    return X_train_tfidf, X_test_tfidf, vectorizer"
      ]
    },
    {
      "cell_type": "code",
      "execution_count": 5,
      "metadata": {
        "id": "Ovh-o6nHwWvv"
      },
      "outputs": [],
      "source": [
        "from sklearn.model_selection import train_test_split\n",
        "\n",
        "def split_data(df, feature_column, target_column, test_size=0.2, random_state=42):\n",
        "    \"\"\"\n",
        "    Veri çerçevesini eğitim ve test setine böler.\n",
        "\n",
        "    Args:\n",
        "    - df: Veri çerçevesi (pandas DataFrame).\n",
        "    - feature_column: Özellik sütunu adı (ör. metin verisi).\n",
        "    - target_column: Hedef sütunu adı (etiketler).\n",
        "    - test_size: Test setinin boyutu (varsayılan: 0.2).\n",
        "    - random_state: Rastgele durum kontrolü için tohum (varsayılan: 42).\n",
        "\n",
        "    Returns:\n",
        "    - X_train: Eğitim seti özellikleri.\n",
        "    - X_test: Test seti özellikleri.\n",
        "    - y_train: Eğitim seti etiketleri.\n",
        "    - y_test: Test seti etiketleri.\n",
        "    \"\"\"\n",
        "    X_train, X_test, y_train, y_test = train_test_split(\n",
        "        df[feature_column],\n",
        "        df[target_column],\n",
        "        test_size=test_size,\n",
        "        random_state=random_state,\n",
        "        stratify=df[target_column]  # Sınıf dengesini korumak için stratify\n",
        "    )\n",
        "    return X_train, X_test, y_train, y_test"
      ]
    },
    {
      "cell_type": "code",
      "execution_count": 6,
      "metadata": {
        "id": "rjEu_AKTuSVd"
      },
      "outputs": [],
      "source": [
        "from imblearn.over_sampling import SMOTE\n",
        "\n",
        "def apply_smote(X, y, random_state=42):\n",
        "    \"\"\"\n",
        "    SMOTE ile azınlık sınıfını artırır.\n",
        "    \"\"\"\n",
        "    smote = SMOTE(random_state=random_state)\n",
        "    X_resampled, y_resampled = smote.fit_resample(X, y)\n",
        "    return X_resampled, y_resampled"
      ]
    },
    {
      "cell_type": "code",
      "execution_count": 7,
      "metadata": {
        "id": "AcOyDYDjuUdE"
      },
      "outputs": [],
      "source": [
        "from sklearn.metrics import classification_report, accuracy_score, confusion_matrix\n",
        "\n",
        "def train_and_evaluate_model(model, X_train, y_train, X_test, y_test):\n",
        "    \"\"\"\n",
        "    Modeli eğitir ve değerlendirme metriklerini döner.\n",
        "    \"\"\"\n",
        "    model.fit(X_train, y_train)\n",
        "    y_pred = model.predict(X_test)\n",
        "\n",
        "    accuracy = accuracy_score(y_test, y_pred)\n",
        "    report = classification_report(y_test, y_pred)\n",
        "    cm = confusion_matrix(y_test, y_pred)\n",
        "\n",
        "    return accuracy, report, cm"
      ]
    },
    {
      "cell_type": "code",
      "execution_count": 8,
      "metadata": {
        "colab": {
          "base_uri": "https://localhost:8080/",
          "height": 819
        },
        "id": "wYvMOapzuX_X",
        "outputId": "8f74bd22-010c-419c-c404-73d5c17cd8f8"
      },
      "outputs": [
        {
          "output_type": "stream",
          "name": "stdout",
          "text": [
            "SVM with SMOTE Accuracy (Balanced Data): 0.9098101265822784\n",
            "SVM with SMOTE Classification Report (Balanced Data):\n",
            "               precision    recall  f1-score   support\n",
            "\n",
            "           0       0.90      0.92      0.91      1885\n",
            "           1       0.92      0.90      0.91      1907\n",
            "\n",
            "    accuracy                           0.91      3792\n",
            "   macro avg       0.91      0.91      0.91      3792\n",
            "weighted avg       0.91      0.91      0.91      3792\n",
            "\n",
            "SVM with SMOTE Confusion Matrix (Balanced Data):\n",
            " [[1725  160]\n",
            " [ 182 1725]]\n"
          ]
        },
        {
          "output_type": "display_data",
          "data": {
            "text/plain": [
              "<Figure size 600x600 with 1 Axes>"
            ],
            "image/png": "[encoded data removed]"
          },
          "metadata": {}
        }
      ],
      "source": [
        "from sklearn.svm import SVC\n",
        "from sklearn.model_selection import train_test_split\n",
        "\n",
        "def svm_with_smote_sentiment_analysis_balanced(df):\n",
        "    \"\"\"Balanced veri seti ile SVM ve SMOTE kullanarak duygu analizi yapar.\"\"\"\n",
        "\n",
        "    # Eğitim ve test setine ayırma\n",
        "    X_train, X_test, y_train, y_test = split_data(df, 'cleaned_review', 'Sentiment')\n",
        "\n",
        "    # TF-IDF vektörleştirme\n",
        "    X_train_tfidf, X_test_tfidf, _ = vectorize_text(X_train, X_test)\n",
        "\n",
        "    # SMOTE ile veri dengeleme\n",
        "    X_train_resampled, y_train_resampled = apply_smote(X_train_tfidf, y_train)\n",
        "\n",
        "    # SVM modeli oluştur ve değerlendir\n",
        "    model = SVC(kernel='linear', class_weight='balanced', random_state=42)\n",
        "    accuracy, report, cm = train_and_evaluate_model(\n",
        "        model, X_train_resampled, y_train_resampled, X_test_tfidf, y_test\n",
        "    )\n",
        "\n",
        "    return accuracy, report, cm\n",
        "\n",
        "# SVM analizi\n",
        "accuracy, report, cm = svm_with_smote_sentiment_analysis_balanced(balanced_data)\n",
        "\n",
        "# Sonuçları yazdır\n",
        "print(\"SVM with SMOTE Accuracy (Balanced Data):\", accuracy)\n",
        "print(\"SVM with SMOTE Classification Report (Balanced Data):\\n\", report)\n",
        "print(\"SVM with SMOTE Confusion Matrix (Balanced Data):\\n\", cm)\n",
        "\n",
        "plot_confusion_matrix(cm)"
      ]
    },
    {
      "cell_type": "code",
      "execution_count": 9,
      "metadata": {
        "colab": {
          "base_uri": "https://localhost:8080/",
          "height": 819
        },
        "id": "lUi_Kr5YvBMt",
        "outputId": "630f3d0e-27c6-4fce-b8c4-b9638218ae93"
      },
      "outputs": [
        {
          "output_type": "stream",
          "name": "stdout",
          "text": [
            "Naive Bayes with SMOTE Accuracy: 0.9042721518987342\n",
            "Naive Bayes with SMOTE Classification Report:\n",
            "               precision    recall  f1-score   support\n",
            "\n",
            "           0       0.92      0.88      0.90      1885\n",
            "           1       0.89      0.93      0.91      1907\n",
            "\n",
            "    accuracy                           0.90      3792\n",
            "   macro avg       0.91      0.90      0.90      3792\n",
            "weighted avg       0.91      0.90      0.90      3792\n",
            "\n",
            "Naive Bayes with SMOTE Confusion Matrix:\n",
            " [[1662  223]\n",
            " [ 140 1767]]\n"
          ]
        },
        {
          "output_type": "display_data",
          "data": {
            "text/plain": [
              "<Figure size 600x600 with 1 Axes>"
            ],
            "image/png": "[encoded data removed]"
          },
          "metadata": {}
        }
      ],
      "source": [
        "from sklearn.naive_bayes import MultinomialNB\n",
        "\n",
        "def naive_bayes_with_smote_sentiment_analysis(df):\n",
        "    \"\"\"Naive Bayes ve SMOTE kullanarak duygu analizi yapar.\"\"\"\n",
        "\n",
        "    # Eğitim ve test setine ayırma\n",
        "    X_train, X_test, y_train, y_test = split_data(df, 'cleaned_review', 'Sentiment')\n",
        "\n",
        "    # TF-IDF vektörleştirme\n",
        "    X_train_tfidf, X_test_tfidf, _ = vectorize_text(X_train, X_test)\n",
        "\n",
        "    # SMOTE ile veri dengeleme\n",
        "    X_train_resampled, y_train_resampled = apply_smote(X_train_tfidf, y_train)\n",
        "\n",
        "    # Naive Bayes modelini oluştur\n",
        "    model = MultinomialNB()\n",
        "\n",
        "    # Modeli eğit ve değerlendir\n",
        "    accuracy, report, cm = train_and_evaluate_model(\n",
        "        model, X_train_resampled, y_train_resampled, X_test_tfidf, y_test\n",
        "    )\n",
        "\n",
        "    return accuracy, report, cm\n",
        "\n",
        "# Naive Bayes analizi\n",
        "accuracy, report, cm = naive_bayes_with_smote_sentiment_analysis(balanced_data)\n",
        "\n",
        "# Sonuçları yazdır\n",
        "print(\"Naive Bayes with SMOTE Accuracy:\", accuracy)\n",
        "print(\"Naive Bayes with SMOTE Classification Report:\\n\", report)\n",
        "print(\"Naive Bayes with SMOTE Confusion Matrix:\\n\", cm)\n",
        "\n",
        "plot_confusion_matrix(cm)"
      ]
    },
    {
      "cell_type": "code",
      "execution_count": 10,
      "metadata": {
        "id": "QnH50wW_vxuQ"
      },
      "outputs": [],
      "source": [
        "from tensorflow.keras.preprocessing.text import Tokenizer\n",
        "from tensorflow.keras.preprocessing.sequence import pad_sequences\n",
        "\n",
        "def preprocess_text_with_tokenizer(train_text, test_text, max_length=100):\n",
        "    \"\"\"\n",
        "    Metinleri tokenize eder ve belirli bir uzunlukta padding uygular.\n",
        "    \"\"\"\n",
        "    tokenizer = Tokenizer()\n",
        "    tokenizer.fit_on_texts(train_text)\n",
        "\n",
        "    # Sayısal verilere dönüştürme\n",
        "    train_seq = tokenizer.texts_to_sequences(train_text)\n",
        "    test_seq = tokenizer.texts_to_sequences(test_text)\n",
        "\n",
        "    # Padding işlemi\n",
        "    train_padded = pad_sequences(train_seq, maxlen=max_length, padding='post')\n",
        "    test_padded = pad_sequences(test_seq, maxlen=max_length, padding='post')\n",
        "\n",
        "    return train_padded, test_padded, tokenizer"
      ]
    },
    {
      "cell_type": "code",
      "execution_count": 11,
      "metadata": {
        "id": "9M_2EW-zv13M"
      },
      "outputs": [],
      "source": [
        "from tensorflow.keras.models import Sequential\n",
        "from tensorflow.keras.layers import Embedding, LSTM, Dense, Dropout, Bidirectional\n",
        "\n",
        "def build_rnn_model(input_dim, max_length, embedding_dim=100):\n",
        "    \"\"\"\n",
        "    RNN (Bidirectional LSTM) modeli oluşturur.\n",
        "    \"\"\"\n",
        "    model = Sequential()\n",
        "    model.add(Embedding(input_dim=input_dim, output_dim=embedding_dim, input_length=max_length))\n",
        "    model.add(Bidirectional(LSTM(64, return_sequences=True)))\n",
        "    model.add(Dropout(0.3))\n",
        "    model.add(Bidirectional(LSTM(32)))\n",
        "    model.add(Dropout(0.3))\n",
        "    model.add(Dense(1, activation='sigmoid'))\n",
        "    model.compile(loss='binary_crossentropy', optimizer='adam', metrics=['accuracy'])\n",
        "    return model"
      ]
    },
    {
      "cell_type": "code",
      "execution_count": 12,
      "metadata": {
        "colab": {
          "base_uri": "https://localhost:8080/",
          "height": 1000
        },
        "id": "X_yHbL1Jv48U",
        "outputId": "e911e446-3073-4f05-a312-55ccb63b4303"
      },
      "outputs": [
        {
          "output_type": "stream",
          "name": "stderr",
          "text": [
            "/usr/local/lib/python3.10/dist-packages/keras/src/layers/core/embedding.py:90: UserWarning: Argument `input_length` is deprecated. Just remove it.\n",
            "  warnings.warn(\n"
          ]
        },
        {
          "output_type": "stream",
          "name": "stdout",
          "text": [
            "Epoch 1/10\n",
            "\u001b[1m239/239\u001b[0m \u001b[32m━━━━━━━━━━━━━━━━━━━━\u001b[0m\u001b[37m\u001b[0m \u001b[1m135s\u001b[0m 478ms/step - accuracy: 0.6823 - loss: 0.7052 - val_accuracy: 0.8819 - val_loss: 0.3125\n",
            "Epoch 2/10\n",
            "\u001b[1m239/239\u001b[0m \u001b[32m━━━━━━━━━━━━━━━━━━━━\u001b[0m\u001b[37m\u001b[0m \u001b[1m136s\u001b[0m 453ms/step - accuracy: 0.9383 - loss: 0.2395 - val_accuracy: 0.9003 - val_loss: 0.2663\n",
            "Epoch 3/10\n",
            "\u001b[1m239/239\u001b[0m \u001b[32m━━━━━━━━━━━━━━━━━━━━\u001b[0m\u001b[37m\u001b[0m \u001b[1m162s\u001b[0m 537ms/step - accuracy: 0.9722 - loss: 0.1296 - val_accuracy: 0.8871 - val_loss: 0.4218\n",
            "Epoch 4/10\n",
            "\u001b[1m239/239\u001b[0m \u001b[32m━━━━━━━━━━━━━━━━━━━━\u001b[0m\u001b[37m\u001b[0m \u001b[1m131s\u001b[0m 492ms/step - accuracy: 0.9807 - loss: 0.0894 - val_accuracy: 0.8795 - val_loss: 0.4076\n",
            "Epoch 5/10\n",
            "\u001b[1m239/239\u001b[0m \u001b[32m━━━━━━━━━━━━━━━━━━━━\u001b[0m\u001b[37m\u001b[0m \u001b[1m133s\u001b[0m 453ms/step - accuracy: 0.9874 - loss: 0.0506 - val_accuracy: 0.8824 - val_loss: 0.4453\n",
            "Epoch 6/10\n",
            "\u001b[1m239/239\u001b[0m \u001b[32m━━━━━━━━━━━━━━━━━━━━\u001b[0m\u001b[37m\u001b[0m \u001b[1m147s\u001b[0m 477ms/step - accuracy: 0.9954 - loss: 0.0231 - val_accuracy: 0.8845 - val_loss: 0.5003\n",
            "Epoch 7/10\n",
            "\u001b[1m239/239\u001b[0m \u001b[32m━━━━━━━━━━━━━━━━━━━━\u001b[0m\u001b[37m\u001b[0m \u001b[1m144s\u001b[0m 485ms/step - accuracy: 0.9923 - loss: 0.0305 - val_accuracy: 0.8832 - val_loss: 0.5633\n",
            "Epoch 8/10\n",
            "\u001b[1m239/239\u001b[0m \u001b[32m━━━━━━━━━━━━━━━━━━━━\u001b[0m\u001b[37m\u001b[0m \u001b[1m136s\u001b[0m 460ms/step - accuracy: 0.9950 - loss: 0.0202 - val_accuracy: 0.8766 - val_loss: 0.6153\n",
            "Epoch 9/10\n",
            "\u001b[1m239/239\u001b[0m \u001b[32m━━━━━━━━━━━━━━━━━━━━\u001b[0m\u001b[37m\u001b[0m \u001b[1m145s\u001b[0m 475ms/step - accuracy: 0.9957 - loss: 0.0211 - val_accuracy: 0.8797 - val_loss: 0.6262\n",
            "Epoch 10/10\n",
            "\u001b[1m239/239\u001b[0m \u001b[32m━━━━━━━━━━━━━━━━━━━━\u001b[0m\u001b[37m\u001b[0m \u001b[1m113s\u001b[0m 473ms/step - accuracy: 0.9972 - loss: 0.0174 - val_accuracy: 0.8795 - val_loss: 0.6507\n",
            "\u001b[1m119/119\u001b[0m \u001b[32m━━━━━━━━━━━━━━━━━━━━\u001b[0m\u001b[37m\u001b[0m \u001b[1m7s\u001b[0m 55ms/step\n",
            "SMOTE ile dengelenmiş RNN Accuracy: 0.8794831223628692\n",
            "SMOTE ile dengelenmiş RNN Classification Report:\n",
            "               precision    recall  f1-score   support\n",
            "\n",
            "           0       0.88      0.88      0.88      1885\n",
            "           1       0.88      0.88      0.88      1907\n",
            "\n",
            "    accuracy                           0.88      3792\n",
            "   macro avg       0.88      0.88      0.88      3792\n",
            "weighted avg       0.88      0.88      0.88      3792\n",
            "\n",
            "SMOTE ile dengelenmiş RNN Confusion Matrix:\n",
            " [[1653  232]\n",
            " [ 225 1682]]\n"
          ]
        },
        {
          "output_type": "display_data",
          "data": {
            "text/plain": [
              "<Figure size 600x600 with 1 Axes>"
            ],
            "image/png": "[encoded data removed]"
          },
          "metadata": {}
        }
      ],
      "source": [
        "def rnn_with_balancing_smote(df):\n",
        "    \"\"\"RNN (Bidirectional LSTM) ve SMOTE kullanarak duygu analizi yapar.\"\"\"\n",
        "\n",
        "    # Eğitim ve test setine ayırma\n",
        "    X_train, X_test, y_train, y_test = split_data(df, 'cleaned_review', 'Sentiment')\n",
        "\n",
        "    # Metin ön işleme (tokenize ve padding)\n",
        "    max_length = 100\n",
        "    X_train_padded, X_test_padded, tokenizer = preprocess_text_with_tokenizer(X_train, X_test, max_length)\n",
        "\n",
        "    # SMOTE ile veri dengeleme\n",
        "    X_train_resampled, y_train_resampled = apply_smote(X_train_padded, y_train)\n",
        "\n",
        "    # Model oluşturma\n",
        "    input_dim = len(tokenizer.word_index) + 1  # Tokenizer'daki toplam kelime sayısı\n",
        "    model = build_rnn_model(input_dim, max_length)\n",
        "\n",
        "    # Modeli eğitme\n",
        "    model.fit(\n",
        "        X_train_resampled,\n",
        "        y_train_resampled,\n",
        "        epochs=10,\n",
        "        batch_size=64,\n",
        "        validation_data=(X_test_padded, y_test),\n",
        "        class_weight={0: 2, 1: 1}  # Sınıf ağırlıkları\n",
        "    )\n",
        "\n",
        "    # Tahmin yap\n",
        "    y_pred = (model.predict(X_test_padded) > 0.5).astype(\"int32\").flatten()\n",
        "\n",
        "    # Sonuçları değerlendir\n",
        "    accuracy = accuracy_score(y_test, y_pred)\n",
        "    report = classification_report(y_test, y_pred)\n",
        "    cm = confusion_matrix(y_test, y_pred)\n",
        "\n",
        "    return accuracy, report, cm\n",
        "\n",
        "# Balanced data ile RNN analizi\n",
        "accuracy, report, cm = rnn_with_balancing_smote(balanced_data)\n",
        "\n",
        "# Sonuçları yazdır\n",
        "print(\"SMOTE ile dengelenmiş RNN Accuracy:\", accuracy)\n",
        "print(\"SMOTE ile dengelenmiş RNN Classification Report:\\n\", report)\n",
        "print(\"SMOTE ile dengelenmiş RNN Confusion Matrix:\\n\", cm)\n",
        "\n",
        "plot_confusion_matrix(cm)"
      ]
    },
    {
      "cell_type": "code",
      "execution_count": 13,
      "metadata": {
        "colab": {
          "base_uri": "https://localhost:8080/",
          "height": 819
        },
        "id": "74VfTODB4UNI",
        "outputId": "7afe90df-216e-4e51-eea3-f840f16dde57"
      },
      "outputs": [
        {
          "output_type": "stream",
          "name": "stdout",
          "text": [
            "Lexicon-Based SMOTE Accuracy: 0.6540075535039865\n",
            "Lexicon-Based SMOTE Classification Report:\n",
            "               precision    recall  f1-score   support\n",
            "\n",
            "           0       0.61      0.82      0.70      9532\n",
            "           1       0.73      0.48      0.58      9532\n",
            "\n",
            "    accuracy                           0.65     19064\n",
            "   macro avg       0.67      0.65      0.64     19064\n",
            "weighted avg       0.67      0.65      0.64     19064\n",
            "\n",
            "Lexicon-Based SMOTE Confusion Matrix:\n",
            " [[7862 1670]\n",
            " [4926 4606]]\n"
          ]
        },
        {
          "output_type": "display_data",
          "data": {
            "text/plain": [
              "<Figure size 600x600 with 1 Axes>"
            ],
            "image/png": "[encoded data removed]"
          },
          "metadata": {}
        }
      ],
      "source": [
        "\n",
        "from sklearn.metrics import classification_report, accuracy_score, confusion_matrix\n",
        "from imblearn.over_sampling import SMOTE\n",
        "import seaborn as sns\n",
        "import matplotlib.pyplot as plt\n",
        "\n",
        "# Pozitif ve negatif kelimelerin listesi\n",
        "positive_words = ['good', 'great', 'excellent', 'awesome', 'nice']\n",
        "negative_words = ['bad', 'terrible', 'poor', 'worst', 'awful']\n",
        "\n",
        "def lexicon_based_sentiment_analysis_with_smote_balanced(df):\n",
        "    \"\"\"Lexicon-based sentiment analizi SMOTE ile ve balanced_data kullanarak.\"\"\"\n",
        "\n",
        "    # Her yorumdaki kelimeleri analiz ederek duygu puanı döndür\n",
        "    def get_sentiment(text):\n",
        "        words = text.split()\n",
        "        score = 0\n",
        "        for word in words:\n",
        "            if word in positive_words:\n",
        "                score += 1\n",
        "            elif word in negative_words:\n",
        "                score -= 1\n",
        "        return 1 if score > 0 else 0\n",
        "\n",
        "    # Duygu etiketlerini tahmin et\n",
        "    df['Lexicon_Sentiment'] = df['cleaned_review'].apply(get_sentiment)\n",
        "\n",
        "    # SMOTE uygulama\n",
        "    X_res, y_res = apply_smote(df['Lexicon_Sentiment'].values.reshape(-1, 1), df['Sentiment'])\n",
        "\n",
        "    # Tahminleri değerlendirme\n",
        "    accuracy = accuracy_score(y_res, X_res)\n",
        "    report = classification_report(y_res, X_res)\n",
        "    cm = confusion_matrix(y_res, X_res)\n",
        "\n",
        "    # Sonuçları yazdır\n",
        "    print(\"Lexicon-Based SMOTE Accuracy:\", accuracy)\n",
        "    print(\"Lexicon-Based SMOTE Classification Report:\\n\", report)\n",
        "    print(\"Lexicon-Based SMOTE Confusion Matrix:\\n\", cm)\n",
        "\n",
        "    # Confusion matrix'i görselleştir\n",
        "    plot_confusion_matrix(cm)\n",
        "\n",
        "    return accuracy, report, cm\n",
        "\n",
        "# Lexicon-based fonksiyonunu balanced_data ile çağırma\n",
        "accuracy, report, cm = lexicon_based_sentiment_analysis_with_smote_balanced(balanced_data)"
      ]
    },
    {
      "cell_type": "code",
      "execution_count": 14,
      "metadata": {
        "colab": {
          "base_uri": "https://localhost:8080/",
          "height": 837
        },
        "id": "fe_9NYHiLPvZ",
        "outputId": "0ffd02d4-025f-4165-b6dd-3d43787ded73"
      },
      "outputs": [
        {
          "output_type": "stream",
          "name": "stdout",
          "text": [
            "Aspect-Based Sentiment Analysis with SMOTE\n",
            "Accuracy: 0.6508078052874527\n",
            "Classification Report:\n",
            "               precision    recall  f1-score   support\n",
            "\n",
            "           0       0.61      0.83      0.70      9532\n",
            "           1       0.73      0.47      0.58      9532\n",
            "\n",
            "    accuracy                           0.65     19064\n",
            "   macro avg       0.67      0.65      0.64     19064\n",
            "weighted avg       0.67      0.65      0.64     19064\n",
            "\n",
            "Confusion Matrix:\n",
            " [[7896 1636]\n",
            " [5021 4511]]\n"
          ]
        },
        {
          "output_type": "display_data",
          "data": {
            "text/plain": [
              "<Figure size 600x600 with 1 Axes>"
            ],
            "image/png": "[encoded data removed]"
          },
          "metadata": {}
        }
      ],
      "source": [
        "import pandas as pd\n",
        "from sklearn.metrics import classification_report, accuracy_score, confusion_matrix\n",
        "from imblearn.over_sampling import SMOTE\n",
        "import seaborn as sns\n",
        "import matplotlib.pyplot as plt\n",
        "from sklearn.ensemble import RandomForestClassifier\n",
        "from sklearn.feature_extraction.text import CountVectorizer\n",
        "\n",
        "# Aspect kelime listeleri\n",
        "aspects = {\n",
        "    'hız': ['fast', 'quick', 'speed', 'late', 'delayed'],\n",
        "    'kalite': ['good', 'great', 'excellent', 'poor', 'bad', 'terrible', 'quality']\n",
        "}\n",
        "\n",
        "def aspect_based_sentiment_analysis_with_smote_balanced(df):\n",
        "    \"\"\"Aspect-based sentiment analizi SMOTE ile ve balanced_data kullanarak.\"\"\"\n",
        "\n",
        "    # Her özellik için duygu analizi yap\n",
        "    def get_aspect_sentiment(text):\n",
        "        words = text.split()\n",
        "        aspect_scores = {aspect: 0 for aspect in aspects.keys()}\n",
        "        for word in words:\n",
        "            for aspect, keywords in aspects.items():\n",
        "                if word in keywords:\n",
        "                    aspect_scores[aspect] += 1\n",
        "        return aspect_scores['hız'], aspect_scores['kalite']\n",
        "\n",
        "    # Her bir yorum için aspect-based duygu analizi yap\n",
        "    df[['Aspect_Hız', 'Aspect_Kalite']] = df['cleaned_review'].apply(get_aspect_sentiment).apply(pd.Series)\n",
        "\n",
        "    # CountVectorizer ile kelime sıklığı (word count) çıkarımı\n",
        "    vectorizer = CountVectorizer(vocabulary=sum(aspects.values(), []))\n",
        "    X_aspects = vectorizer.fit_transform(df['cleaned_review']).toarray()\n",
        "\n",
        "    # SMOTE uygulama (X: özellikler, y: etiketler)\n",
        "    smote = SMOTE(k_neighbors=3)\n",
        "    X_res, y_res = apply_smote(X_aspects, df['Sentiment'])\n",
        "\n",
        "    # Model tanımlama\n",
        "    model = RandomForestClassifier(random_state=42)\n",
        "\n",
        "    # Model eğitimi\n",
        "    model.fit(X_res, y_res)\n",
        "    y_pred = model.predict(X_res)\n",
        "\n",
        "    # Sonuçların değerlendirilmesi\n",
        "    accuracy = accuracy_score(y_res, y_pred)\n",
        "    report = classification_report(y_res, y_pred)\n",
        "    cm = confusion_matrix(y_res, y_pred)\n",
        "\n",
        "    # Sonuçların yazdırılması\n",
        "    print(\"Aspect-Based Sentiment Analysis with SMOTE\")\n",
        "    print(\"Accuracy:\", accuracy)\n",
        "    print(\"Classification Report:\\n\", report)\n",
        "    print(\"Confusion Matrix:\\n\", cm)\n",
        "\n",
        "    return accuracy, report, cm\n",
        "\n",
        "# Aspect-based fonksiyonunu çağırma\n",
        "accuracy, report, cm = aspect_based_sentiment_analysis_with_smote_balanced(balanced_data)\n",
        "plot_confusion_matrix(cm)"
      ]
    },
    {
      "cell_type": "code",
      "execution_count": 15,
      "metadata": {
        "colab": {
          "base_uri": "https://localhost:8080/",
          "height": 1000
        },
        "id": "PlAuEEB4KGD1",
        "outputId": "c7c63cd2-827a-41e6-b620-77c1d990f029"
      },
      "outputs": [
        {
          "output_type": "stream",
          "name": "stderr",
          "text": [
            "/usr/local/lib/python3.10/dist-packages/keras/src/layers/core/dense.py:87: UserWarning: Do not pass an `input_shape`/`input_dim` argument to a layer. When using Sequential models, prefer using an `Input(shape)` object as the first layer in the model instead.\n",
            "  super().__init__(activity_regularizer=activity_regularizer, **kwargs)\n"
          ]
        },
        {
          "output_type": "stream",
          "name": "stdout",
          "text": [
            "Epoch 1/5\n",
            "\u001b[1m239/239\u001b[0m \u001b[32m━━━━━━━━━━━━━━━━━━━━\u001b[0m\u001b[37m\u001b[0m \u001b[1m8s\u001b[0m 29ms/step - accuracy: 0.8172 - loss: 0.4718 - val_accuracy: 0.9032 - val_loss: 0.2370\n",
            "Epoch 2/5\n",
            "\u001b[1m239/239\u001b[0m \u001b[32m━━━━━━━━━━━━━━━━━━━━\u001b[0m\u001b[37m\u001b[0m \u001b[1m9s\u001b[0m 25ms/step - accuracy: 0.9629 - loss: 0.1099 - val_accuracy: 0.9001 - val_loss: 0.2663\n",
            "Epoch 3/5\n",
            "\u001b[1m239/239\u001b[0m \u001b[32m━━━━━━━━━━━━━━━━━━━━\u001b[0m\u001b[37m\u001b[0m \u001b[1m8s\u001b[0m 33ms/step - accuracy: 0.9888 - loss: 0.0471 - val_accuracy: 0.8985 - val_loss: 0.3333\n",
            "Epoch 4/5\n",
            "\u001b[1m239/239\u001b[0m \u001b[32m━━━━━━━━━━━━━━━━━━━━\u001b[0m\u001b[37m\u001b[0m \u001b[1m8s\u001b[0m 26ms/step - accuracy: 0.9939 - loss: 0.0233 - val_accuracy: 0.8977 - val_loss: 0.4125\n",
            "Epoch 5/5\n",
            "\u001b[1m239/239\u001b[0m \u001b[32m━━━━━━━━━━━━━━━━━━━━\u001b[0m\u001b[37m\u001b[0m \u001b[1m11s\u001b[0m 31ms/step - accuracy: 0.9981 - loss: 0.0086 - val_accuracy: 0.8948 - val_loss: 0.4881\n",
            "\u001b[1m119/119\u001b[0m \u001b[32m━━━━━━━━━━━━━━━━━━━━\u001b[0m\u001b[37m\u001b[0m \u001b[1m1s\u001b[0m 6ms/step\n",
            "CNN with SMOTE Accuracy (Balanced Data): 0.8947784810126582\n",
            "CNN with SMOTE Classification Report (Balanced Data):\n",
            "               precision    recall  f1-score   support\n",
            "\n",
            "           0       0.89      0.90      0.89      1885\n",
            "           1       0.90      0.89      0.90      1907\n",
            "\n",
            "    accuracy                           0.89      3792\n",
            "   macro avg       0.89      0.89      0.89      3792\n",
            "weighted avg       0.89      0.89      0.89      3792\n",
            "\n",
            "CNN with SMOTE Confusion Matrix (Balanced Data):\n",
            " [[1688  197]\n",
            " [ 202 1705]]\n"
          ]
        },
        {
          "output_type": "display_data",
          "data": {
            "text/plain": [
              "<Figure size 600x600 with 1 Axes>"
            ],
            "image/png": "[encoded data removed]"
          },
          "metadata": {}
        }
      ],
      "source": [
        "import numpy as np\n",
        "import tensorflow as tf\n",
        "from tensorflow.keras.models import Sequential\n",
        "from tensorflow.keras.layers import Embedding, Conv1D, MaxPooling1D, Flatten, Dense\n",
        "from tensorflow.keras.optimizers import Adam\n",
        "from sklearn.feature_extraction.text import TfidfVectorizer\n",
        "from sklearn.model_selection import train_test_split\n",
        "from imblearn.over_sampling import SMOTE\n",
        "from sklearn.metrics import accuracy_score, classification_report, confusion_matrix\n",
        "import seaborn as sns\n",
        "import matplotlib.pyplot as plt\n",
        "\n",
        "def cnn_with_smote_sentiment_analysis_balanced(df):\n",
        "    \"\"\"Balanced veri seti ile CNN ve SMOTE kullanarak duygu analizi yapar ve sonuçları döner.\"\"\"\n",
        "    # Eğitim ve test setine ayırma\n",
        "    X_train, X_test, y_train, y_test = split_data(df, 'cleaned_review', 'Sentiment')\n",
        "\n",
        "    # TF-IDF vektörleştirme\n",
        "    X_train_tfidf, X_test_tfidf, _ = vectorize_text(X_train, X_test)\n",
        "\n",
        "    # SMOTE ile veri artırımı\n",
        "    X_train_resampled, y_train_resampled = apply_smote(X_train_tfidf, y_train)\n",
        "\n",
        "    # CNN Modelini oluştur\n",
        "    model = Sequential([\n",
        "        Dense(128, activation='relu', input_shape=(X_train_resampled.shape[1],)),\n",
        "        Dense(64, activation='relu'),\n",
        "        Dense(1, activation='sigmoid')  # Binary sınıflandırma için sigmoid\n",
        "    ])\n",
        "\n",
        "    model.compile(optimizer=Adam(), loss='binary_crossentropy', metrics=['accuracy'])\n",
        "\n",
        "    # Modeli eğit\n",
        "    model.fit(\n",
        "        X_train_resampled, y_train_resampled,\n",
        "        epochs=5,\n",
        "        batch_size=64,\n",
        "        validation_data=(X_test_tfidf, y_test)\n",
        "    )\n",
        "\n",
        "    # Test seti üzerinde tahmin yap\n",
        "    y_pred = model.predict(X_test_tfidf)\n",
        "    y_pred = (y_pred > 0.5).astype(int).flatten()  # Sigmoid çıktıyı 0 veya 1'e dönüştür\n",
        "\n",
        "    # Sonuçları yazdır\n",
        "    print(\"CNN with SMOTE Accuracy (Balanced Data):\", accuracy_score(y_test, y_pred))\n",
        "    print(\"CNN with SMOTE Classification Report (Balanced Data):\\n\", classification_report(y_test, y_pred))\n",
        "    print(\"CNN with SMOTE Confusion Matrix (Balanced Data):\\n\", confusion_matrix(y_test, y_pred))\n",
        "\n",
        "    return accuracy, report, cm\n",
        "\n",
        "# CNN analizi SMOTE ile balanced_data kullanılarak\n",
        "accuracy, report, cm = cnn_with_smote_sentiment_analysis_balanced(balanced_data)\n",
        "\n",
        "# Confusion Matrix'i görselleştir\n",
        "plot_confusion_matrix(cm)"
      ]
    },
    {
      "cell_type": "code",
      "execution_count": 16,
      "metadata": {
        "id": "gc1FZmGlEh9O"
      },
      "outputs": [],
      "source": [
        "from gensim.models import Word2Vec\n",
        "import numpy as np\n",
        "\n",
        "def train_word2vec(corpus):\n",
        "    \"\"\"\n",
        "    Word2Vec modelini eğitir ve kelimeler için vektörleri döndürür.\n",
        "    \"\"\"\n",
        "    tokenized_corpus = [text.split() for text in corpus]  # Her yorumu tokenize et\n",
        "    model = Word2Vec(sentences=tokenized_corpus, vector_size=100, window=5, min_count=1, workers=4)\n",
        "    return model\n",
        "\n",
        "def vectorize_text_with_word2vec(texts, model):\n",
        "    \"\"\"\n",
        "    Word2Vec ile metni vektörize eder.\n",
        "    \"\"\"\n",
        "    def average_word_vectors(words, model, vector_size):\n",
        "        # Her kelimenin vektör ortalamasını al\n",
        "        feature_vec = np.zeros((vector_size,), dtype='float32')\n",
        "        n_words = 0\n",
        "        for word in words:\n",
        "            if word in model.wv:\n",
        "                feature_vec = np.add(feature_vec, model.wv[word])\n",
        "                n_words += 1\n",
        "        if n_words > 0:\n",
        "            feature_vec = np.divide(feature_vec, n_words)\n",
        "        return feature_vec\n",
        "\n",
        "    vector_size = model.vector_size\n",
        "    return np.array([average_word_vectors(text.split(), model, vector_size) for text in texts])"
      ]
    },
    {
      "cell_type": "code",
      "execution_count": 17,
      "metadata": {
        "colab": {
          "base_uri": "https://localhost:8080/",
          "height": 819
        },
        "id": "dyFIQOSjAaqo",
        "outputId": "afec6f7b-4e42-453f-b7cb-2f3b0c09d84c"
      },
      "outputs": [
        {
          "output_type": "stream",
          "name": "stdout",
          "text": [
            "Word2Vec Sentiment Analysis Accuracy: 0.8051160337552743\n",
            "Word2Vec Sentiment Analysis Classification Report:\n",
            "               precision    recall  f1-score   support\n",
            "\n",
            "           0       0.80      0.82      0.81      1885\n",
            "           1       0.81      0.79      0.80      1907\n",
            "\n",
            "    accuracy                           0.81      3792\n",
            "   macro avg       0.81      0.81      0.81      3792\n",
            "weighted avg       0.81      0.81      0.81      3792\n",
            "\n",
            "Word2Vec Sentiment Analysis Confusion Matrix:\n",
            " [[1539  346]\n",
            " [ 393 1514]]\n"
          ]
        },
        {
          "output_type": "display_data",
          "data": {
            "text/plain": [
              "<Figure size 600x600 with 1 Axes>"
            ],
            "image/png": "[encoded data removed]"
          },
          "metadata": {}
        }
      ],
      "source": [
        "from sklearn.linear_model import LogisticRegression\n",
        "\n",
        "def word2vec_sentiment_analysis(df):\n",
        "    \"\"\"\n",
        "    Word2Vec ve bir makine öğrenimi modeli ile duygu analizi yapar.\n",
        "    \"\"\"\n",
        "    # Eğitim ve test setine ayırma\n",
        "    X_train, X_test, y_train, y_test = split_data(df, 'cleaned_review', 'Sentiment')\n",
        "\n",
        "    # Word2Vec modelini eğit\n",
        "    word2vec_model = train_word2vec(X_train)\n",
        "\n",
        "    # Word2Vec ile veriyi vektörize et\n",
        "    X_train_vec = vectorize_text_with_word2vec(X_train, word2vec_model)\n",
        "    X_test_vec = vectorize_text_with_word2vec(X_test, word2vec_model)\n",
        "\n",
        "    # SMOTE uygula\n",
        "    X_train_resampled, y_train_resampled = apply_smote(X_train_vec, y_train)\n",
        "\n",
        "    # Model oluştur ve değerlendir\n",
        "    model = LogisticRegression(random_state=42)\n",
        "    accuracy, report, cm = train_and_evaluate_model(model, X_train_resampled, y_train_resampled, X_test_vec, y_test)\n",
        "\n",
        "    return accuracy, report, cm\n",
        "\n",
        "# Word2Vec ile duygu analizi fonksiyonunu çalıştır\n",
        "accuracy_word2vec, report_word2vec, cm_word2vec = word2vec_sentiment_analysis(balanced_data)\n",
        "\n",
        "# Sonuçları yazdır\n",
        "print(\"Word2Vec Sentiment Analysis Accuracy:\", accuracy_word2vec)\n",
        "print(\"Word2Vec Sentiment Analysis Classification Report:\\n\", report_word2vec)\n",
        "print(\"Word2Vec Sentiment Analysis Confusion Matrix:\\n\", cm_word2vec)\n",
        "\n",
        "# Confusion Matrix görselleştirmesi\n",
        "plot_confusion_matrix(cm_word2vec)"
      ]
    },
    {
      "cell_type": "code",
      "execution_count": null,
      "metadata": {
        "colab": {
          "base_uri": "https://localhost:8080/"
        },
        "id": "XY5o752zEW8J",
        "outputId": "feca8bb4-90e1-49ef-80db-b5eb763e744b"
      },
      "outputs": [
        {
          "metadata": {
            "tags": null
          },
          "name": "stderr",
          "output_type": "stream",
          "text": [
            "/usr/local/lib/python3.10/dist-packages/huggingface_hub/utils/_auth.py:94: UserWarning: \n",
            "The secret `HF_TOKEN` does not exist in your Colab secrets.\n",
            "To authenticate with the Hugging Face Hub, create a token in your settings tab (https://huggingface.co/settings/tokens), set it as secret in your Google Colab and restart your session.\n",
            "You will be able to reuse this secret in all of your notebooks.\n",
            "Please note that authentication is recommended but still optional to access public models or datasets.\n",
            "  warnings.warn(\n",
            "Some weights of DistilBertForSequenceClassification were not initialized from the model checkpoint at distilbert-base-uncased and are newly initialized: ['classifier.bias', 'classifier.weight', 'pre_classifier.bias', 'pre_classifier.weight']\n",
            "You should probably TRAIN this model on a down-stream task to be able to use it for predictions and inference.\n"
          ]
        }
      ],
      "source": [
        "from transformers import DistilBertTokenizer, DistilBertForSequenceClassification\n",
        "from torch.utils.data import DataLoader, TensorDataset\n",
        "import torch\n",
        "from sklearn.metrics import accuracy_score, classification_report, confusion_matrix\n",
        "import seaborn as sns\n",
        "import matplotlib.pyplot as plt\n",
        "\n",
        "def prepare_bert_data(texts, labels, tokenizer, max_len=96):\n",
        "    \"\"\"BERT için veri hazırlığı: metinleri ve etiketleri tokenlara dönüştürür.\"\"\"\n",
        "    input_ids = []\n",
        "    attention_masks = []\n",
        "\n",
        "    for text in texts:\n",
        "        encoding = tokenizer.encode_plus(\n",
        "            text,\n",
        "            add_special_tokens=True,\n",
        "            max_length=max_len,\n",
        "            padding='max_length',\n",
        "            truncation=True,\n",
        "            return_attention_mask=True,\n",
        "            return_tensors='pt'\n",
        "        )\n",
        "        input_ids.append(encoding['input_ids'])\n",
        "        attention_masks.append(encoding['attention_mask'])\n",
        "\n",
        "    input_ids = torch.cat(input_ids, dim=0)\n",
        "    attention_masks = torch.cat(attention_masks, dim=0)\n",
        "    labels = torch.tensor(labels)\n",
        "\n",
        "    return input_ids, attention_masks, labels\n",
        "\n",
        "def bert_sentiment_analysis(df, batch_size=32, max_len=96, epochs=1, gradient_accumulation_steps=4):\n",
        "    \"\"\"DistilBERT tabanlı sentiment analizi yapar.\"\"\"\n",
        "    tokenizer = DistilBertTokenizer.from_pretrained('distilbert-base-uncased')  # Küçük model\n",
        "    model = DistilBertForSequenceClassification.from_pretrained('distilbert-base-uncased', num_labels=2)\n",
        "\n",
        "    device = torch.device(\"cuda\" if torch.cuda.is_available() else \"cpu\")\n",
        "    model.to(device)\n",
        "\n",
        "    X = df['cleaned_review'].values\n",
        "    y = df['Sentiment'].values\n",
        "\n",
        "    input_ids, attention_masks, labels = prepare_bert_data(X, y, tokenizer, max_len)\n",
        "\n",
        "    train_size = int(0.8 * len(X))\n",
        "    train_inputs, test_inputs = input_ids[:train_size], input_ids[train_size:]\n",
        "    train_masks, test_masks = attention_masks[:train_size], attention_masks[train_size:]\n",
        "    train_labels, test_labels = labels[:train_size], labels[train_size:]\n",
        "\n",
        "    train_data = TensorDataset(train_inputs, train_masks, train_labels)\n",
        "    test_data = TensorDataset(test_inputs, test_masks, test_labels)\n",
        "\n",
        "    train_dataloader = DataLoader(train_data, batch_size=batch_size, shuffle=True)\n",
        "    test_dataloader = DataLoader(test_data, batch_size=batch_size)\n",
        "\n",
        "    class_weights = torch.tensor([1.0, 5.0]).to(device)  # Pozitif sınıf için ağırlık\n",
        "    loss_fn = torch.nn.CrossEntropyLoss(weight=class_weights)\n",
        "\n",
        "    model.train()\n",
        "    optimizer = torch.optim.AdamW(model.parameters(), lr=2e-5)  # Daha düşük öğrenme oranı\n",
        "\n",
        "    for epoch in range(epochs):\n",
        "        total_loss = 0\n",
        "        for step, batch in enumerate(train_dataloader):\n",
        "            input_ids, attention_masks, labels = [item.to(device) for item in batch]\n",
        "            optimizer.zero_grad()\n",
        "            outputs = model(input_ids, attention_mask=attention_masks)\n",
        "            loss = loss_fn(outputs.logits, labels)\n",
        "            total_loss += loss.item()\n",
        "            loss.backward()\n",
        "\n",
        "            if (step + 1) % gradient_accumulation_steps == 0:\n",
        "                optimizer.step()\n",
        "\n",
        "        print(f\"Epoch {epoch + 1}/{epochs}, Loss: {total_loss / len(train_dataloader)}\")\n",
        "\n",
        "    model.eval()\n",
        "    all_preds = []\n",
        "    all_labels = []\n",
        "\n",
        "    for batch in test_dataloader:\n",
        "        input_ids, attention_masks, labels = [item.to(device) for item in batch]\n",
        "        with torch.no_grad():\n",
        "            outputs = model(input_ids, attention_mask=attention_masks)\n",
        "        logits = outputs.logits\n",
        "        preds = torch.argmax(logits, dim=1)\n",
        "        all_preds.extend(preds.cpu().numpy())\n",
        "        all_labels.extend(labels.cpu().numpy())\n",
        "\n",
        "    accuracy = accuracy_score(all_labels, all_preds)\n",
        "    report = classification_report(all_labels, all_preds)\n",
        "    cm = confusion_matrix(all_labels, all_preds)\n",
        "\n",
        "    print(\"BERT Sentiment Accuracy:\", accuracy)\n",
        "    print(\"BERT Sentiment Classification Report:\\n\", report)\n",
        "    print(\"BERT Sentiment Confusion Matrix:\\n\", cm)\n",
        "\n",
        "    return accuracy, report, cm\n",
        "\n",
        "# balanced_data DataFrame'inin önceden tanımlı olduğundan emin olun.\n",
        "accuracy_bert, report_bert, cm_bert = bert_sentiment_analysis(balanced_data)\n",
        "plot_confusion_matrix(cm_bert)"
      ]
    }
  ],
  "metadata": {
    "colab": {
      "provenance": [],
      "authorship_tag": "ABX9TyOVJafnXUHbcvGb3e93Z4by",
      "include_colab_link": true
    },
    "kernelspec": {
      "display_name": "Python 3",
      "name": "python3"
    },
    "language_info": {
      "name": "python"
    }
  },
  "nbformat": 4,
  "nbformat_minor": 0
}