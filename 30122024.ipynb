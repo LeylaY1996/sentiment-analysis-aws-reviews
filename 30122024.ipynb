{
  "cells": [
    {
      "cell_type": "markdown",
      "metadata": {
        "id": "view-in-github",
        "colab_type": "text"
      },
      "source": [
        "<a href=\"https://colab.research.google.com/github/LeylaY1996/sentiment-analysis-aws-reviews/blob/main/30122024.ipynb\" target=\"_parent\"><img src=\"https://colab.research.google.com/assets/colab-badge.svg\" alt=\"Open In Colab\"/></a>"
      ]
    },
    {
      "cell_type": "code",
      "execution_count": 1,
      "metadata": {
        "colab": {
          "base_uri": "https://localhost:8080/"
        },
        "id": "eFjwov6sHxis",
        "outputId": "397b8787-4ba9-401e-e0fc-3ec51f8acbc0"
      },
      "outputs": [
        {
          "output_type": "stream",
          "name": "stdout",
          "text": [
            "Orijinal veri seti boyutu: (149388, 10)\n"
          ]
        }
      ],
      "source": [
        "import pandas as pd\n",
        "\n",
        "# Veri setini yükle\n",
        "csv_file_path = '/content/Reviews-2.csv'  # Dosya yolunuza göre güncelleyin\n",
        "df = pd.read_csv(csv_file_path, on_bad_lines='skip', quoting=3, low_memory=False)  # daha yeni versiyonlar için\n",
        "# Veri setinin boyutunu yazdır\n",
        "print(\"Orijinal veri seti boyutu:\", df.shape)\n",
        "\n",
        "# %50 oranında rastgele bir alt küme seç\n",
        "#sampled_df = df.sample(frac=0.5, random_state=42)  # random_state ile tekrarlanabilirlik sağlar\n",
        "\n",
        "# Yeni veri setinin boyutunu yazdır\n",
        "#print(\"Yeni veri seti boyutu:\", sampled_df.shape)\n",
        "\n",
        "# İstediğiniz gibi veriyi kaydedin veya kullanın\n",
        "#sampled_df.to_csv('sampled_reviews.csv', index=False)  # Yeni dosyayı kaydet"
      ]
    },
    {
      "cell_type": "code",
      "source": [
        "import numpy as np\n",
        "import matplotlib.pyplot as plt\n",
        "import nltk\n",
        "from nltk.corpus import stopwords\n",
        "import string\n",
        "from scipy import stats\n",
        "\n",
        "# NLTK stopwords yükle\n",
        "nltk.download('stopwords')\n",
        "stop_words = set(stopwords.words('english'))\n",
        "punctuation = string.punctuation\n",
        "\n",
        "def clean_text(text):\n",
        "    \"\"\"Metni temizler: küçük harfe çevirir, noktalama işaretlerini kaldırır ve durak kelimeleri filtreler.\"\"\"\n",
        "    text = text.lower()  # Küçük harfe çevir\n",
        "    text = ''.join([char for char in text if char not in punctuation])  # Noktalama işaretlerini kaldır\n",
        "    text = ' '.join([word for word in text.split() if word not in stop_words])  # Durak kelimeleri filtrele\n",
        "    return text\n",
        "\n",
        "def prepare_data(csv_file):\n",
        "    \"\"\"Veri setini hazırlar: yükler, temizler ve etiketler.\"\"\"\n",
        "\n",
        "    # Veri setini yükle\n",
        "    df = pd.read_csv(csv_file)\n",
        "\n",
        "    # Gerekli sütunları seçin\n",
        "    df = df[['Text', 'Score', 'ProductId', 'UserId']]\n",
        "\n",
        "    # 3 değerine sahip satırları çıkarın\n",
        "    df = df[df['Score'] != 3]\n",
        "\n",
        "    # Skorları ikili hale getirin (örneğin: 1-2 olumsuz, 4-5 olumlu)\n",
        "    df['Sentiment'] = df['Score'].apply(lambda x: 1 if x >= 4 else 0)\n",
        "\n",
        "    # Yorumları temizle\n",
        "    df['cleaned_review'] = df['Text'].apply(clean_text)\n",
        "\n",
        "    # Sadece temizlenmiş yorumlar ve duygu etiketlerini içeren DataFrame döndür\n",
        "    return df[['cleaned_review', 'Sentiment', 'ProductId', 'UserId']]\n",
        "\n",
        "# Veriyi yükle ve hazırla\n",
        "csv_file_path = '/content/sampled_reviews.csv'  # Dosya yolunuza göre güncelleyin\n",
        "prepared_data = prepare_data(csv_file_path)\n",
        "\n",
        "# Veri dengesini sağlama\n",
        "# Olumlu ve olumsuz örneklerin sayısını bul\n",
        "positive_samples = prepared_data[prepared_data['Sentiment'] == 1]\n",
        "negative_samples = prepared_data[prepared_data['Sentiment'] == 0]\n",
        "\n",
        "# Minimum sayıda olan sınıfa göre dengeleme\n",
        "min_samples = min(len(positive_samples), len(negative_samples))\n",
        "balanced_data = pd.concat([positive_samples.sample(min_samples, random_state=42),\n",
        "                           negative_samples.sample(min_samples, random_state=42)])\n",
        "\n",
        "# Histogram çizme\n",
        "balanced_data['Sentiment'].value_counts().plot(kind='bar', color=['blue', 'orange'])\n",
        "plt.title('Sentiment Distribution')\n",
        "plt.xlabel('Sentiment')\n",
        "plt.ylabel('Frequency')\n",
        "plt.show()\n",
        "\n",
        "# Ortalama ve standart sapma hesaplama\n",
        "mean_length = balanced_data['cleaned_review'].apply(len).mean()\n",
        "std_length = balanced_data['cleaned_review'].apply(len).std()\n",
        "print(f\"Ortalama Yorum Uzunluğu: {mean_length}\")\n",
        "print(f\"Standart Sapma: {std_length}\")\n",
        "\n",
        "# Aykırı değer kontrolü (örneğin, yorum uzunluğuna göre aykırı değer)\n",
        "z_scores = np.abs(stats.zscore(balanced_data['cleaned_review'].apply(len)))\n",
        "balanced_data = balanced_data[(z_scores < 3)]\n",
        "print(balanced_data)\n",
        "print(\"Aykırı değerler çıkarıldıktan sonra veri seti boyutu:\", balanced_data.shape)"
      ],
      "metadata": {
        "colab": {
          "base_uri": "https://localhost:8080/",
          "height": 1000
        },
        "id": "KlllbBHfiorZ",
        "outputId": "af48514e-0059-44bc-8e5e-1e4e4c1ab735"
      },
      "execution_count": 2,
      "outputs": [
        {
          "output_type": "stream",
          "name": "stderr",
          "text": [
            "[nltk_data] Downloading package stopwords to /root/nltk_data...\n",
            "[nltk_data]   Package stopwords is already up-to-date!\n"
          ]
        },
        {
          "output_type": "display_data",
          "data": {
            "text/plain": [
              "<Figure size 640x480 with 1 Axes>"
            ],
            "image/png": "[encoded data removed]"
          },
          "metadata": {}
        },
        {
          "output_type": "stream",
          "name": "stdout",
          "text": [
            "Ortalama Yorum Uzunluğu: 139.837343441002\n",
            "Standart Sapma: 89.755888745872\n",
            "                                          cleaned_review  Sentiment  \\\n",
            "30703  fog chaser tastiest full bodied coffee kerig m...          1   \n",
            "14176  buy case regularly rather hard find stores son...          1   \n",
            "30281  love much better wheat thins competitorsless s...          1   \n",
            "9818   really enjoy coffee one best flavored coffee k...          1   \n",
            "34003  good price wonderful product would definetly o...          1   \n",
            "...                                                  ...        ...   \n",
            "28678  got noodle excited try ate two bite going sink...          0   \n",
            "39304  bought son christmas like dr pepper really dis...          0   \n",
            "39638  bough france quality super one received disapp...          0   \n",
            "41195  company basically selling ordinary honey bees ...          0   \n",
            "6434   dont buy treats unless want clean vomit day ma...          0   \n",
            "\n",
            "        ProductId          UserId  \n",
            "30703  B007Y59HVM  A23FXN3MH1F00D  \n",
            "14176  B000FMZO90   AL5QIKVGDAYST  \n",
            "30281  B001FA1S3M   A50487ZXEE637  \n",
            "9818   B0029XDZKI   AQY4FGSLKATYV  \n",
            "34003  B0046IIPMW   AOVB4IOM6ZVI9  \n",
            "...           ...             ...  \n",
            "28678  B003SKYBRW  A3U18YJVRH4A3R  \n",
            "39304  B004H4LKAE  A37P6OH31NB8Q9  \n",
            "39638  B004XE0EN2   AY9P8R3WELS1T  \n",
            "41195  B000LKUZ04  A27I4JYGMUYBZY  \n",
            "6434   B000WEMJ2G  A2Y4TYYGXJCV99  \n",
            "\n",
            "[11916 rows x 4 columns]\n",
            "Aykırı değerler çıkarıldıktan sonra veri seti boyutu: (11916, 4)\n"
          ]
        }
      ]
    },
    {
      "cell_type": "code",
      "execution_count": 3,
      "metadata": {
        "id": "-t_4S8CoTQfv"
      },
      "outputs": [],
      "source": [
        "# Confusion Matrix'i görselleştir\n",
        "def plot_confusion_matrix(cm):\n",
        "    \"\"\"Confusion matrix'i görselleştirir.\"\"\"\n",
        "    fig, ax = plt.subplots(figsize=(6,6))\n",
        "    ax.matshow(cm, cmap='Blues', alpha=0.6)\n",
        "    for (i, j), val in np.ndenumerate(cm):\n",
        "        ax.text(j, i, f'{val}', ha='center', va='center', color='red')\n",
        "    plt.xlabel('Predicted labels')\n",
        "    plt.ylabel('True labels')\n",
        "    plt.title('Confusion Matrix')\n",
        "    plt.show()"
      ]
    },
    {
      "cell_type": "code",
      "execution_count": 4,
      "metadata": {
        "id": "oSfUixjwuNaF"
      },
      "outputs": [],
      "source": [
        "from sklearn.feature_extraction.text import TfidfVectorizer\n",
        "\n",
        "def vectorize_text(train_text, test_text, max_features=10000, ngram_range=(1, 2)):\n",
        "    \"\"\"\n",
        "    Metinleri TF-IDF ile vektörize eder.\n",
        "    \"\"\"\n",
        "    vectorizer = TfidfVectorizer(max_features=max_features, ngram_range=ngram_range)\n",
        "    X_train_tfidf = vectorizer.fit_transform(train_text)\n",
        "    X_test_tfidf = vectorizer.transform(test_text)\n",
        "    return X_train_tfidf, X_test_tfidf, vectorizer"
      ]
    },
    {
      "cell_type": "code",
      "execution_count": 5,
      "metadata": {
        "id": "Ovh-o6nHwWvv"
      },
      "outputs": [],
      "source": [
        "from sklearn.model_selection import train_test_split\n",
        "\n",
        "def split_data(df, feature_column, target_column, test_size=0.2, random_state=42):\n",
        "    \"\"\"\n",
        "    Veri çerçevesini eğitim ve test setine böler.\n",
        "\n",
        "    Args:\n",
        "    - df: Veri çerçevesi (pandas DataFrame).\n",
        "    - feature_column: Özellik sütunu adı (ör. metin verisi).\n",
        "    - target_column: Hedef sütunu adı (etiketler).\n",
        "    - test_size: Test setinin boyutu (varsayılan: 0.2).\n",
        "    - random_state: Rastgele durum kontrolü için tohum (varsayılan: 42).\n",
        "\n",
        "    Returns:\n",
        "    - X_train: Eğitim seti özellikleri.\n",
        "    - X_test: Test seti özellikleri.\n",
        "    - y_train: Eğitim seti etiketleri.\n",
        "    - y_test: Test seti etiketleri.\n",
        "    \"\"\"\n",
        "    X_train, X_test, y_train, y_test = train_test_split(\n",
        "        df[feature_column],\n",
        "        df[target_column],\n",
        "        test_size=test_size,\n",
        "        random_state=random_state,\n",
        "        stratify=df[target_column]  # Sınıf dengesini korumak için stratify\n",
        "    )\n",
        "    return X_train, X_test, y_train, y_test"
      ]
    },
    {
      "cell_type": "code",
      "execution_count": 6,
      "metadata": {
        "id": "rjEu_AKTuSVd"
      },
      "outputs": [],
      "source": [
        "from imblearn.over_sampling import SMOTE\n",
        "\n",
        "def apply_smote(X, y, random_state=42):\n",
        "    \"\"\"\n",
        "    SMOTE ile azınlık sınıfını artırır.\n",
        "    \"\"\"\n",
        "    smote = SMOTE(random_state=random_state)\n",
        "    X_resampled, y_resampled = smote.fit_resample(X, y)\n",
        "    return X_resampled, y_resampled"
      ]
    },
    {
      "cell_type": "code",
      "execution_count": 7,
      "metadata": {
        "id": "AcOyDYDjuUdE"
      },
      "outputs": [],
      "source": [
        "from sklearn.metrics import classification_report, accuracy_score, confusion_matrix\n",
        "\n",
        "def train_and_evaluate_model(model, X_train, y_train, X_test, y_test):\n",
        "    \"\"\"\n",
        "    Modeli eğitir ve değerlendirme metriklerini döner.\n",
        "    \"\"\"\n",
        "    model.fit(X_train, y_train)\n",
        "    y_pred = model.predict(X_test)\n",
        "\n",
        "    accuracy = accuracy_score(y_test, y_pred)\n",
        "    report = classification_report(y_test, y_pred)\n",
        "    cm = confusion_matrix(y_test, y_pred)\n",
        "\n",
        "    return accuracy, report, cm"
      ]
    },
    {
      "cell_type": "code",
      "execution_count": 8,
      "metadata": {
        "colab": {
          "base_uri": "https://localhost:8080/",
          "height": 901
        },
        "id": "wYvMOapzuX_X",
        "outputId": "ce826c29-f8f2-495f-fa24-db809de95ebb"
      },
      "outputs": [
        {
          "output_type": "stream",
          "name": "stderr",
          "text": [
            "/usr/local/lib/python3.10/dist-packages/sklearn/base.py:474: FutureWarning: `BaseEstimator._validate_data` is deprecated in 1.6 and will be removed in 1.7. Use `sklearn.utils.validation.validate_data` instead. This function becomes public and is part of the scikit-learn developer API.\n",
            "  warnings.warn(\n",
            "/usr/local/lib/python3.10/dist-packages/sklearn/utils/_tags.py:354: FutureWarning: The SMOTE or classes from which it inherits use `_get_tags` and `_more_tags`. Please define the `__sklearn_tags__` method, or inherit from `sklearn.base.BaseEstimator` and/or other appropriate mixins such as `sklearn.base.TransformerMixin`, `sklearn.base.ClassifierMixin`, `sklearn.base.RegressorMixin`, and `sklearn.base.OutlierMixin`. From scikit-learn 1.7, not defining `__sklearn_tags__` will raise an error.\n",
            "  warnings.warn(\n"
          ]
        },
        {
          "output_type": "stream",
          "name": "stdout",
          "text": [
            "SVM with SMOTE Accuracy (Balanced Data): 0.8959731543624161\n",
            "SVM with SMOTE Classification Report (Balanced Data):\n",
            "               precision    recall  f1-score   support\n",
            "\n",
            "           0       0.89      0.90      0.90      1187\n",
            "           1       0.90      0.89      0.90      1197\n",
            "\n",
            "    accuracy                           0.90      2384\n",
            "   macro avg       0.90      0.90      0.90      2384\n",
            "weighted avg       0.90      0.90      0.90      2384\n",
            "\n",
            "SVM with SMOTE Confusion Matrix (Balanced Data):\n",
            " [[1073  114]\n",
            " [ 134 1063]]\n"
          ]
        },
        {
          "output_type": "display_data",
          "data": {
            "text/plain": [
              "<Figure size 600x600 with 1 Axes>"
            ],
            "image/png": "[encoded data removed]"
          },
          "metadata": {}
        }
      ],
      "source": [
        "from sklearn.svm import SVC\n",
        "from sklearn.model_selection import train_test_split\n",
        "\n",
        "def svm_with_smote_sentiment_analysis_balanced(df):\n",
        "    \"\"\"Balanced veri seti ile SVM ve SMOTE kullanarak duygu analizi yapar.\"\"\"\n",
        "\n",
        "    # Eğitim ve test setine ayırma\n",
        "    X_train, X_test, y_train, y_test = split_data(df, 'cleaned_review', 'Sentiment')\n",
        "\n",
        "    # TF-IDF vektörleştirme\n",
        "    X_train_tfidf, X_test_tfidf, _ = vectorize_text(X_train, X_test)\n",
        "\n",
        "    # SMOTE ile veri dengeleme\n",
        "    X_train_resampled, y_train_resampled = apply_smote(X_train_tfidf, y_train)\n",
        "\n",
        "    # SVM modeli oluştur ve değerlendir\n",
        "    model = SVC(kernel='linear', class_weight='balanced', random_state=42)\n",
        "    accuracy, report, cm = train_and_evaluate_model(\n",
        "        model, X_train_resampled, y_train_resampled, X_test_tfidf, y_test\n",
        "    )\n",
        "\n",
        "    return accuracy, report, cm\n",
        "\n",
        "# SVM analizi\n",
        "accuracy, report, cm = svm_with_smote_sentiment_analysis_balanced(balanced_data)\n",
        "\n",
        "# Sonuçları yazdır\n",
        "print(\"SVM with SMOTE Accuracy (Balanced Data):\", accuracy)\n",
        "print(\"SVM with SMOTE Classification Report (Balanced Data):\\n\", report)\n",
        "print(\"SVM with SMOTE Confusion Matrix (Balanced Data):\\n\", cm)\n",
        "\n",
        "plot_confusion_matrix(cm)"
      ]
    },
    {
      "cell_type": "code",
      "execution_count": 9,
      "metadata": {
        "colab": {
          "base_uri": "https://localhost:8080/",
          "height": 901
        },
        "id": "lUi_Kr5YvBMt",
        "outputId": "4208d261-2f57-4d8d-cd99-492e43d4e7df"
      },
      "outputs": [
        {
          "output_type": "stream",
          "name": "stderr",
          "text": [
            "/usr/local/lib/python3.10/dist-packages/sklearn/base.py:474: FutureWarning: `BaseEstimator._validate_data` is deprecated in 1.6 and will be removed in 1.7. Use `sklearn.utils.validation.validate_data` instead. This function becomes public and is part of the scikit-learn developer API.\n",
            "  warnings.warn(\n",
            "/usr/local/lib/python3.10/dist-packages/sklearn/utils/_tags.py:354: FutureWarning: The SMOTE or classes from which it inherits use `_get_tags` and `_more_tags`. Please define the `__sklearn_tags__` method, or inherit from `sklearn.base.BaseEstimator` and/or other appropriate mixins such as `sklearn.base.TransformerMixin`, `sklearn.base.ClassifierMixin`, `sklearn.base.RegressorMixin`, and `sklearn.base.OutlierMixin`. From scikit-learn 1.7, not defining `__sklearn_tags__` will raise an error.\n",
            "  warnings.warn(\n"
          ]
        },
        {
          "output_type": "stream",
          "name": "stdout",
          "text": [
            "Naive Bayes with SMOTE Accuracy: 0.8926174496644296\n",
            "Naive Bayes with SMOTE Classification Report:\n",
            "               precision    recall  f1-score   support\n",
            "\n",
            "           0       0.91      0.87      0.89      1187\n",
            "           1       0.88      0.91      0.90      1197\n",
            "\n",
            "    accuracy                           0.89      2384\n",
            "   macro avg       0.89      0.89      0.89      2384\n",
            "weighted avg       0.89      0.89      0.89      2384\n",
            "\n",
            "Naive Bayes with SMOTE Confusion Matrix:\n",
            " [[1034  153]\n",
            " [ 103 1094]]\n"
          ]
        },
        {
          "output_type": "display_data",
          "data": {
            "text/plain": [
              "<Figure size 600x600 with 1 Axes>"
            ],
            "image/png": "[encoded data removed]"
          },
          "metadata": {}
        }
      ],
      "source": [
        "from sklearn.naive_bayes import MultinomialNB\n",
        "\n",
        "def naive_bayes_with_smote_sentiment_analysis(df):\n",
        "    \"\"\"Naive Bayes ve SMOTE kullanarak duygu analizi yapar.\"\"\"\n",
        "\n",
        "    # Eğitim ve test setine ayırma\n",
        "    X_train, X_test, y_train, y_test = split_data(df, 'cleaned_review', 'Sentiment')\n",
        "\n",
        "    # TF-IDF vektörleştirme\n",
        "    X_train_tfidf, X_test_tfidf, _ = vectorize_text(X_train, X_test)\n",
        "\n",
        "    # SMOTE ile veri dengeleme\n",
        "    X_train_resampled, y_train_resampled = apply_smote(X_train_tfidf, y_train)\n",
        "\n",
        "    # Naive Bayes modelini oluştur\n",
        "    model = MultinomialNB()\n",
        "\n",
        "    # Modeli eğit ve değerlendir\n",
        "    accuracy, report, cm = train_and_evaluate_model(\n",
        "        model, X_train_resampled, y_train_resampled, X_test_tfidf, y_test\n",
        "    )\n",
        "\n",
        "    return accuracy, report, cm\n",
        "\n",
        "# Naive Bayes analizi\n",
        "accuracy, report, cm = naive_bayes_with_smote_sentiment_analysis(balanced_data)\n",
        "\n",
        "# Sonuçları yazdır\n",
        "print(\"Naive Bayes with SMOTE Accuracy:\", accuracy)\n",
        "print(\"Naive Bayes with SMOTE Classification Report:\\n\", report)\n",
        "print(\"Naive Bayes with SMOTE Confusion Matrix:\\n\", cm)\n",
        "\n",
        "plot_confusion_matrix(cm)"
      ]
    },
    {
      "cell_type": "code",
      "execution_count": 10,
      "metadata": {
        "id": "QnH50wW_vxuQ"
      },
      "outputs": [],
      "source": [
        "from tensorflow.keras.preprocessing.text import Tokenizer\n",
        "from tensorflow.keras.preprocessing.sequence import pad_sequences\n",
        "\n",
        "def preprocess_text_with_tokenizer(train_text, test_text, max_length=100):\n",
        "    \"\"\"\n",
        "    Metinleri tokenize eder ve belirli bir uzunlukta padding uygular.\n",
        "    \"\"\"\n",
        "    tokenizer = Tokenizer()\n",
        "    tokenizer.fit_on_texts(train_text)\n",
        "\n",
        "    # Sayısal verilere dönüştürme\n",
        "    train_seq = tokenizer.texts_to_sequences(train_text)\n",
        "    test_seq = tokenizer.texts_to_sequences(test_text)\n",
        "\n",
        "    # Padding işlemi\n",
        "    train_padded = pad_sequences(train_seq, maxlen=max_length, padding='post')\n",
        "    test_padded = pad_sequences(test_seq, maxlen=max_length, padding='post')\n",
        "\n",
        "    return train_padded, test_padded, tokenizer"
      ]
    },
    {
      "cell_type": "code",
      "execution_count": 11,
      "metadata": {
        "id": "9M_2EW-zv13M"
      },
      "outputs": [],
      "source": [
        "from tensorflow.keras.models import Sequential\n",
        "from tensorflow.keras.layers import Embedding, LSTM, Dense, Dropout, Bidirectional\n",
        "\n",
        "def build_rnn_model(input_dim, max_length, embedding_dim=100):\n",
        "    \"\"\"\n",
        "    RNN (Bidirectional LSTM) modeli oluşturur.\n",
        "    \"\"\"\n",
        "    model = Sequential()\n",
        "    model.add(Embedding(input_dim=input_dim, output_dim=embedding_dim, input_length=max_length))\n",
        "    model.add(Bidirectional(LSTM(64, return_sequences=True)))\n",
        "    model.add(Dropout(0.3))\n",
        "    model.add(Bidirectional(LSTM(32)))\n",
        "    model.add(Dropout(0.3))\n",
        "    model.add(Dense(1, activation='sigmoid'))\n",
        "    model.compile(loss='binary_crossentropy', optimizer='adam', metrics=['accuracy'])\n",
        "    return model"
      ]
    },
    {
      "cell_type": "code",
      "execution_count": 12,
      "metadata": {
        "colab": {
          "base_uri": "https://localhost:8080/",
          "height": 1000
        },
        "id": "X_yHbL1Jv48U",
        "outputId": "84cdec62-c982-42da-a4f8-f182c5a4d76b"
      },
      "outputs": [
        {
          "output_type": "stream",
          "name": "stderr",
          "text": [
            "/usr/local/lib/python3.10/dist-packages/sklearn/base.py:474: FutureWarning: `BaseEstimator._validate_data` is deprecated in 1.6 and will be removed in 1.7. Use `sklearn.utils.validation.validate_data` instead. This function becomes public and is part of the scikit-learn developer API.\n",
            "  warnings.warn(\n",
            "/usr/local/lib/python3.10/dist-packages/sklearn/utils/_tags.py:354: FutureWarning: The SMOTE or classes from which it inherits use `_get_tags` and `_more_tags`. Please define the `__sklearn_tags__` method, or inherit from `sklearn.base.BaseEstimator` and/or other appropriate mixins such as `sklearn.base.TransformerMixin`, `sklearn.base.ClassifierMixin`, `sklearn.base.RegressorMixin`, and `sklearn.base.OutlierMixin`. From scikit-learn 1.7, not defining `__sklearn_tags__` will raise an error.\n",
            "  warnings.warn(\n",
            "/usr/local/lib/python3.10/dist-packages/keras/src/layers/core/embedding.py:90: UserWarning: Argument `input_length` is deprecated. Just remove it.\n",
            "  warnings.warn(\n"
          ]
        },
        {
          "output_type": "stream",
          "name": "stdout",
          "text": [
            "Epoch 1/10\n",
            "\u001b[1m150/150\u001b[0m \u001b[32m━━━━━━━━━━━━━━━━━━━━\u001b[0m\u001b[37m\u001b[0m \u001b[1m79s\u001b[0m 468ms/step - accuracy: 0.6203 - loss: 0.8009 - val_accuracy: 0.8826 - val_loss: 0.3027\n",
            "Epoch 2/10\n",
            "\u001b[1m150/150\u001b[0m \u001b[32m━━━━━━━━━━━━━━━━━━━━\u001b[0m\u001b[37m\u001b[0m \u001b[1m79s\u001b[0m 447ms/step - accuracy: 0.9356 - loss: 0.2599 - val_accuracy: 0.8855 - val_loss: 0.3036\n",
            "Epoch 3/10\n",
            "\u001b[1m150/150\u001b[0m \u001b[32m━━━━━━━━━━━━━━━━━━━━\u001b[0m\u001b[37m\u001b[0m \u001b[1m86s\u001b[0m 473ms/step - accuracy: 0.9678 - loss: 0.1501 - val_accuracy: 0.8716 - val_loss: 0.3628\n",
            "Epoch 4/10\n",
            "\u001b[1m150/150\u001b[0m \u001b[32m━━━━━━━━━━━━━━━━━━━━\u001b[0m\u001b[37m\u001b[0m \u001b[1m79s\u001b[0m 456ms/step - accuracy: 0.9793 - loss: 0.0927 - val_accuracy: 0.8775 - val_loss: 0.4136\n",
            "Epoch 5/10\n",
            "\u001b[1m150/150\u001b[0m \u001b[32m━━━━━━━━━━━━━━━━━━━━\u001b[0m\u001b[37m\u001b[0m \u001b[1m81s\u001b[0m 450ms/step - accuracy: 0.9911 - loss: 0.0509 - val_accuracy: 0.8620 - val_loss: 0.5175\n",
            "Epoch 6/10\n",
            "\u001b[1m150/150\u001b[0m \u001b[32m━━━━━━━━━━━━━━━━━━━━\u001b[0m\u001b[37m\u001b[0m \u001b[1m81s\u001b[0m 444ms/step - accuracy: 0.9902 - loss: 0.0497 - val_accuracy: 0.8792 - val_loss: 0.5467\n",
            "Epoch 7/10\n",
            "\u001b[1m150/150\u001b[0m \u001b[32m━━━━━━━━━━━━━━━━━━━━\u001b[0m\u001b[37m\u001b[0m \u001b[1m82s\u001b[0m 446ms/step - accuracy: 0.9975 - loss: 0.0226 - val_accuracy: 0.8750 - val_loss: 0.5787\n",
            "Epoch 8/10\n",
            "\u001b[1m150/150\u001b[0m \u001b[32m━━━━━━━━━━━━━━━━━━━━\u001b[0m\u001b[37m\u001b[0m \u001b[1m83s\u001b[0m 454ms/step - accuracy: 0.9958 - loss: 0.0226 - val_accuracy: 0.8670 - val_loss: 0.6022\n",
            "Epoch 9/10\n",
            "\u001b[1m150/150\u001b[0m \u001b[32m━━━━━━━━━━━━━━━━━━━━\u001b[0m\u001b[37m\u001b[0m \u001b[1m81s\u001b[0m 445ms/step - accuracy: 0.9948 - loss: 0.0296 - val_accuracy: 0.8750 - val_loss: 0.6427\n",
            "Epoch 10/10\n",
            "\u001b[1m150/150\u001b[0m \u001b[32m━━━━━━━━━━━━━━━━━━━━\u001b[0m\u001b[37m\u001b[0m \u001b[1m66s\u001b[0m 439ms/step - accuracy: 0.9975 - loss: 0.0179 - val_accuracy: 0.8658 - val_loss: 0.7022\n",
            "\u001b[1m75/75\u001b[0m \u001b[32m━━━━━━━━━━━━━━━━━━━━\u001b[0m\u001b[37m\u001b[0m \u001b[1m5s\u001b[0m 56ms/step\n",
            "SMOTE ile dengelenmiş RNN Accuracy: 0.8657718120805369\n",
            "SMOTE ile dengelenmiş RNN Classification Report:\n",
            "               precision    recall  f1-score   support\n",
            "\n",
            "           0       0.86      0.87      0.87      1187\n",
            "           1       0.87      0.86      0.87      1197\n",
            "\n",
            "    accuracy                           0.87      2384\n",
            "   macro avg       0.87      0.87      0.87      2384\n",
            "weighted avg       0.87      0.87      0.87      2384\n",
            "\n",
            "SMOTE ile dengelenmiş RNN Confusion Matrix:\n",
            " [[1038  149]\n",
            " [ 171 1026]]\n"
          ]
        },
        {
          "output_type": "display_data",
          "data": {
            "text/plain": [
              "<Figure size 600x600 with 1 Axes>"
            ],
            "image/png": "[encoded data removed]"
          },
          "metadata": {}
        }
      ],
      "source": [
        "def rnn_with_balancing_smote(df):\n",
        "    \"\"\"RNN (Bidirectional LSTM) ve SMOTE kullanarak duygu analizi yapar.\"\"\"\n",
        "\n",
        "    # Eğitim ve test setine ayırma\n",
        "    X_train, X_test, y_train, y_test = split_data(df, 'cleaned_review', 'Sentiment')\n",
        "\n",
        "    # Metin ön işleme (tokenize ve padding)\n",
        "    max_length = 100\n",
        "    X_train_padded, X_test_padded, tokenizer = preprocess_text_with_tokenizer(X_train, X_test, max_length)\n",
        "\n",
        "    # SMOTE ile veri dengeleme\n",
        "    X_train_resampled, y_train_resampled = apply_smote(X_train_padded, y_train)\n",
        "\n",
        "    # Model oluşturma\n",
        "    input_dim = len(tokenizer.word_index) + 1  # Tokenizer'daki toplam kelime sayısı\n",
        "    model = build_rnn_model(input_dim, max_length)\n",
        "\n",
        "    # Modeli eğitme\n",
        "    model.fit(\n",
        "        X_train_resampled,\n",
        "        y_train_resampled,\n",
        "        epochs=10,\n",
        "        batch_size=64,\n",
        "        validation_data=(X_test_padded, y_test),\n",
        "        class_weight={0: 2, 1: 1}  # Sınıf ağırlıkları\n",
        "    )\n",
        "\n",
        "    # Tahmin yap\n",
        "    y_pred = (model.predict(X_test_padded) > 0.5).astype(\"int32\").flatten()\n",
        "\n",
        "    # Sonuçları değerlendir\n",
        "    accuracy = accuracy_score(y_test, y_pred)\n",
        "    report = classification_report(y_test, y_pred)\n",
        "    cm = confusion_matrix(y_test, y_pred)\n",
        "\n",
        "    return accuracy, report, cm\n",
        "\n",
        "# Balanced data ile RNN analizi\n",
        "accuracy, report, cm = rnn_with_balancing_smote(balanced_data)\n",
        "\n",
        "# Sonuçları yazdır\n",
        "print(\"SMOTE ile dengelenmiş RNN Accuracy:\", accuracy)\n",
        "print(\"SMOTE ile dengelenmiş RNN Classification Report:\\n\", report)\n",
        "print(\"SMOTE ile dengelenmiş RNN Confusion Matrix:\\n\", cm)\n",
        "\n",
        "plot_confusion_matrix(cm)"
      ]
    },
    {
      "cell_type": "code",
      "execution_count": 13,
      "metadata": {
        "colab": {
          "base_uri": "https://localhost:8080/",
          "height": 901
        },
        "id": "YNJ85reaehrN",
        "outputId": "cac3c19a-a442-4865-c3cd-68f94458962e"
      },
      "outputs": [
        {
          "output_type": "stream",
          "name": "stderr",
          "text": [
            "/usr/local/lib/python3.10/dist-packages/sklearn/base.py:474: FutureWarning: `BaseEstimator._validate_data` is deprecated in 1.6 and will be removed in 1.7. Use `sklearn.utils.validation.validate_data` instead. This function becomes public and is part of the scikit-learn developer API.\n",
            "  warnings.warn(\n",
            "/usr/local/lib/python3.10/dist-packages/sklearn/utils/_tags.py:354: FutureWarning: The SMOTE or classes from which it inherits use `_get_tags` and `_more_tags`. Please define the `__sklearn_tags__` method, or inherit from `sklearn.base.BaseEstimator` and/or other appropriate mixins such as `sklearn.base.TransformerMixin`, `sklearn.base.ClassifierMixin`, `sklearn.base.RegressorMixin`, and `sklearn.base.OutlierMixin`. From scikit-learn 1.7, not defining `__sklearn_tags__` will raise an error.\n",
            "  warnings.warn(\n"
          ]
        },
        {
          "output_type": "stream",
          "name": "stdout",
          "text": [
            "Lexicon-Based SMOTE Accuracy: 0.9388217522658611\n",
            "Lexicon-Based SMOTE Classification Report:\n",
            "               precision    recall  f1-score   support\n",
            "\n",
            "           0       0.95      0.92      0.94      5932\n",
            "           1       0.93      0.95      0.94      5984\n",
            "\n",
            "    accuracy                           0.94     11916\n",
            "   macro avg       0.94      0.94      0.94     11916\n",
            "weighted avg       0.94      0.94      0.94     11916\n",
            "\n",
            "Lexicon-Based SMOTE Confusion Matrix:\n",
            " [[5479  453]\n",
            " [ 276 5708]]\n"
          ]
        },
        {
          "output_type": "display_data",
          "data": {
            "text/plain": [
              "<Figure size 600x600 with 1 Axes>"
            ],
            "image/png": "[encoded data removed]"
          },
          "metadata": {}
        }
      ],
      "source": [
        "from sklearn.metrics import classification_report, accuracy_score, confusion_matrix\n",
        "from imblearn.over_sampling import SMOTE\n",
        "import seaborn as sns\n",
        "import matplotlib.pyplot as plt\n",
        "\n",
        "# Pozitif ve negatif kelimelerin listesi\n",
        "positive_words = ['good', 'great', 'excellent', 'awesome', 'nice']\n",
        "negative_words = ['bad', 'terrible', 'poor', 'worst', 'awful']\n",
        "\n",
        "def lexicon_based_sentiment_analysis_with_smote_balanced(df):\n",
        "    \"\"\"Lexicon-based sentiment analizi SMOTE ile ve balanced_data kullanarak.\"\"\"\n",
        "\n",
        "    # Her yorumdaki kelimeleri analiz ederek duygu puanı döndür\n",
        "    def get_sentiment(text):\n",
        "        words = text.split()\n",
        "        score = 0\n",
        "        for word in words:\n",
        "            if word in positive_words:\n",
        "                score += 1\n",
        "            elif word in negative_words:\n",
        "                score -= 1\n",
        "        return 1 if score > 0 else 0\n",
        "\n",
        "    # Duygu etiketlerini tahmin et\n",
        "    df['Lexicon_Sentiment'] = df['cleaned_review'].apply(get_sentiment)\n",
        "\n",
        "    # Özellik ve etiketleri ayırma\n",
        "    X = df['cleaned_review']  # Özellikler: Temizlenmiş yorumlar\n",
        "    y = df['Sentiment']  # Etiketler: Gerçek duygu etiketleri\n",
        "\n",
        "    # TF-IDF vektörleştirme\n",
        "    X_train_tfidf, X_test_tfidf, _ = vectorize_text(X, X)\n",
        "\n",
        "    # SMOTE uygulama\n",
        "    X_res, y_res = apply_smote(X_train_tfidf, y)\n",
        "\n",
        "    # Modeli eğitme ve tahmin\n",
        "    model = MultinomialNB()\n",
        "    model.fit(X_res, y_res)\n",
        "    y_pred = model.predict(X_test_tfidf)\n",
        "\n",
        "    # Tahminleri değerlendirme\n",
        "    accuracy = accuracy_score(y, y_pred)\n",
        "    report = classification_report(y, y_pred)\n",
        "    cm = confusion_matrix(y, y_pred)\n",
        "\n",
        "    # Sonuçları yazdır\n",
        "    print(\"Lexicon-Based SMOTE Accuracy:\", accuracy)\n",
        "    print(\"Lexicon-Based SMOTE Classification Report:\\n\", report)\n",
        "    print(\"Lexicon-Based SMOTE Confusion Matrix:\\n\", cm)\n",
        "\n",
        "    # Confusion matrix'i görselleştir\n",
        "    plot_confusion_matrix(cm)\n",
        "\n",
        "    return accuracy, report, cm\n",
        "\n",
        "# Lexicon-based fonksiyonunu balanced_data ile çağırma\n",
        "accuracy, report, cm = lexicon_based_sentiment_analysis_with_smote_balanced(balanced_data)"
      ]
    },
    {
      "cell_type": "code",
      "execution_count": 15,
      "metadata": {
        "colab": {
          "base_uri": "https://localhost:8080/",
          "height": 919
        },
        "id": "fe_9NYHiLPvZ",
        "outputId": "fe0675ed-d605-4776-a94a-7bbc5d4ac7cb"
      },
      "outputs": [
        {
          "output_type": "stream",
          "name": "stderr",
          "text": [
            "/usr/local/lib/python3.10/dist-packages/sklearn/base.py:474: FutureWarning: `BaseEstimator._validate_data` is deprecated in 1.6 and will be removed in 1.7. Use `sklearn.utils.validation.validate_data` instead. This function becomes public and is part of the scikit-learn developer API.\n",
            "  warnings.warn(\n",
            "/usr/local/lib/python3.10/dist-packages/sklearn/utils/_tags.py:354: FutureWarning: The SMOTE or classes from which it inherits use `_get_tags` and `_more_tags`. Please define the `__sklearn_tags__` method, or inherit from `sklearn.base.BaseEstimator` and/or other appropriate mixins such as `sklearn.base.TransformerMixin`, `sklearn.base.ClassifierMixin`, `sklearn.base.RegressorMixin`, and `sklearn.base.OutlierMixin`. From scikit-learn 1.7, not defining `__sklearn_tags__` will raise an error.\n",
            "  warnings.warn(\n"
          ]
        },
        {
          "output_type": "stream",
          "name": "stdout",
          "text": [
            "Aspect-Based Sentiment Analysis with SMOTE\n",
            "Accuracy: 0.6433823529411765\n",
            "Classification Report:\n",
            "               precision    recall  f1-score   support\n",
            "\n",
            "           0       0.61      0.81      0.69      5984\n",
            "           1       0.71      0.48      0.57      5984\n",
            "\n",
            "    accuracy                           0.64     11968\n",
            "   macro avg       0.66      0.64      0.63     11968\n",
            "weighted avg       0.66      0.64      0.63     11968\n",
            "\n",
            "Confusion Matrix:\n",
            " [[4842 1142]\n",
            " [3126 2858]]\n"
          ]
        },
        {
          "output_type": "display_data",
          "data": {
            "text/plain": [
              "<Figure size 600x600 with 1 Axes>"
            ],
            "image/png": "[encoded data removed]"
          },
          "metadata": {}
        }
      ],
      "source": [
        "import pandas as pd\n",
        "from sklearn.metrics import classification_report, accuracy_score, confusion_matrix\n",
        "from imblearn.over_sampling import SMOTE\n",
        "import seaborn as sns\n",
        "import matplotlib.pyplot as plt\n",
        "from sklearn.ensemble import RandomForestClassifier\n",
        "from sklearn.feature_extraction.text import CountVectorizer\n",
        "\n",
        "# Aspect kelime listeleri\n",
        "aspects = {\n",
        "    'hız': ['fast', 'quick', 'speed', 'late', 'delayed'],\n",
        "    'kalite': ['good', 'great', 'excellent', 'poor', 'bad', 'terrible', 'quality']\n",
        "}\n",
        "\n",
        "def aspect_based_sentiment_analysis_with_smote_balanced(df):\n",
        "    \"\"\"Aspect-based sentiment analizi SMOTE ile ve balanced_data kullanarak.\"\"\"\n",
        "\n",
        "    # Her özellik için duygu analizi yap\n",
        "    def get_aspect_sentiment(text):\n",
        "        words = text.split()\n",
        "        aspect_scores = {aspect: 0 for aspect in aspects.keys()}\n",
        "        for word in words:\n",
        "            for aspect, keywords in aspects.items():\n",
        "                if word in keywords:\n",
        "                    aspect_scores[aspect] += 1\n",
        "        return aspect_scores['hız'], aspect_scores['kalite']\n",
        "\n",
        "    # Her bir yorum için aspect-based duygu analizi yap\n",
        "    df[['Aspect_Hız', 'Aspect_Kalite']] = df['cleaned_review'].apply(get_aspect_sentiment).apply(pd.Series)\n",
        "\n",
        "    # CountVectorizer ile kelime sıklığı (word count) çıkarımı\n",
        "    vectorizer = CountVectorizer(vocabulary=sum(aspects.values(), []))\n",
        "    X_aspects = vectorizer.fit_transform(df['cleaned_review']).toarray()\n",
        "\n",
        "    # SMOTE uygulama (X: özellikler, y: etiketler)\n",
        "    smote = SMOTE(k_neighbors=3)\n",
        "    X_res, y_res = apply_smote(X_aspects, df['Sentiment'])\n",
        "\n",
        "    # Model tanımlama\n",
        "    model = RandomForestClassifier(random_state=42)\n",
        "\n",
        "    # Model eğitimi\n",
        "    model.fit(X_res, y_res)\n",
        "    y_pred = model.predict(X_res)\n",
        "\n",
        "    # Sonuçların değerlendirilmesi\n",
        "    accuracy = accuracy_score(y_res, y_pred)\n",
        "    report = classification_report(y_res, y_pred)\n",
        "    cm = confusion_matrix(y_res, y_pred)\n",
        "\n",
        "    # Sonuçların yazdırılması\n",
        "    print(\"Aspect-Based Sentiment Analysis with SMOTE\")\n",
        "    print(\"Accuracy:\", accuracy)\n",
        "    print(\"Classification Report:\\n\", report)\n",
        "    print(\"Confusion Matrix:\\n\", cm)\n",
        "\n",
        "    return accuracy, report, cm\n",
        "\n",
        "# Aspect-based fonksiyonunu çağırma\n",
        "accuracy, report, cm = aspect_based_sentiment_analysis_with_smote_balanced(balanced_data)\n",
        "plot_confusion_matrix(cm)"
      ]
    },
    {
      "cell_type": "code",
      "execution_count": 16,
      "metadata": {
        "colab": {
          "base_uri": "https://localhost:8080/",
          "height": 1000
        },
        "id": "PlAuEEB4KGD1",
        "outputId": "88354755-70de-4482-b6eb-2554e3e757d5"
      },
      "outputs": [
        {
          "output_type": "stream",
          "name": "stderr",
          "text": [
            "/usr/local/lib/python3.10/dist-packages/sklearn/base.py:474: FutureWarning: `BaseEstimator._validate_data` is deprecated in 1.6 and will be removed in 1.7. Use `sklearn.utils.validation.validate_data` instead. This function becomes public and is part of the scikit-learn developer API.\n",
            "  warnings.warn(\n",
            "/usr/local/lib/python3.10/dist-packages/sklearn/utils/_tags.py:354: FutureWarning: The SMOTE or classes from which it inherits use `_get_tags` and `_more_tags`. Please define the `__sklearn_tags__` method, or inherit from `sklearn.base.BaseEstimator` and/or other appropriate mixins such as `sklearn.base.TransformerMixin`, `sklearn.base.ClassifierMixin`, `sklearn.base.RegressorMixin`, and `sklearn.base.OutlierMixin`. From scikit-learn 1.7, not defining `__sklearn_tags__` will raise an error.\n",
            "  warnings.warn(\n",
            "/usr/local/lib/python3.10/dist-packages/keras/src/layers/core/dense.py:87: UserWarning: Do not pass an `input_shape`/`input_dim` argument to a layer. When using Sequential models, prefer using an `Input(shape)` object as the first layer in the model instead.\n",
            "  super().__init__(activity_regularizer=activity_regularizer, **kwargs)\n"
          ]
        },
        {
          "output_type": "stream",
          "name": "stdout",
          "text": [
            "Epoch 1/5\n",
            "\u001b[1m150/150\u001b[0m \u001b[32m━━━━━━━━━━━━━━━━━━━━\u001b[0m\u001b[37m\u001b[0m \u001b[1m6s\u001b[0m 31ms/step - accuracy: 0.7632 - loss: 0.5390 - val_accuracy: 0.8951 - val_loss: 0.2547\n",
            "Epoch 2/5\n",
            "\u001b[1m150/150\u001b[0m \u001b[32m━━━━━━━━━━━━━━━━━━━━\u001b[0m\u001b[37m\u001b[0m \u001b[1m6s\u001b[0m 35ms/step - accuracy: 0.9637 - loss: 0.1089 - val_accuracy: 0.8985 - val_loss: 0.2771\n",
            "Epoch 3/5\n",
            "\u001b[1m150/150\u001b[0m \u001b[32m━━━━━━━━━━━━━━━━━━━━\u001b[0m\u001b[37m\u001b[0m \u001b[1m9s\u001b[0m 24ms/step - accuracy: 0.9933 - loss: 0.0358 - val_accuracy: 0.8972 - val_loss: 0.3408\n",
            "Epoch 4/5\n",
            "\u001b[1m150/150\u001b[0m \u001b[32m━━━━━━━━━━━━━━━━━━━━\u001b[0m\u001b[37m\u001b[0m \u001b[1m6s\u001b[0m 38ms/step - accuracy: 0.9984 - loss: 0.0118 - val_accuracy: 0.8985 - val_loss: 0.3964\n",
            "Epoch 5/5\n",
            "\u001b[1m150/150\u001b[0m \u001b[32m━━━━━━━━━━━━━━━━━━━━\u001b[0m\u001b[37m\u001b[0m \u001b[1m4s\u001b[0m 28ms/step - accuracy: 0.9995 - loss: 0.0037 - val_accuracy: 0.8981 - val_loss: 0.4361\n",
            "\u001b[1m75/75\u001b[0m \u001b[32m━━━━━━━━━━━━━━━━━━━━\u001b[0m\u001b[37m\u001b[0m \u001b[1m1s\u001b[0m 6ms/step\n",
            "CNN with SMOTE Accuracy (Balanced Data): 0.8980704697986577\n",
            "CNN with SMOTE Classification Report (Balanced Data):\n",
            "               precision    recall  f1-score   support\n",
            "\n",
            "           0       0.89      0.91      0.90      1187\n",
            "           1       0.91      0.89      0.90      1197\n",
            "\n",
            "    accuracy                           0.90      2384\n",
            "   macro avg       0.90      0.90      0.90      2384\n",
            "weighted avg       0.90      0.90      0.90      2384\n",
            "\n",
            "CNN with SMOTE Confusion Matrix (Balanced Data):\n",
            " [[1079  108]\n",
            " [ 135 1062]]\n"
          ]
        },
        {
          "output_type": "display_data",
          "data": {
            "text/plain": [
              "<Figure size 600x600 with 1 Axes>"
            ],
            "image/png": "[encoded data removed]"
          },
          "metadata": {}
        }
      ],
      "source": [
        "import numpy as np\n",
        "import tensorflow as tf\n",
        "from tensorflow.keras.models import Sequential\n",
        "from tensorflow.keras.layers import Embedding, Conv1D, MaxPooling1D, Flatten, Dense\n",
        "from tensorflow.keras.optimizers import Adam\n",
        "from sklearn.feature_extraction.text import TfidfVectorizer\n",
        "from sklearn.model_selection import train_test_split\n",
        "from imblearn.over_sampling import SMOTE\n",
        "from sklearn.metrics import accuracy_score, classification_report, confusion_matrix\n",
        "import seaborn as sns\n",
        "import matplotlib.pyplot as plt\n",
        "\n",
        "def cnn_with_smote_sentiment_analysis_balanced(df):\n",
        "    \"\"\"Balanced veri seti ile CNN ve SMOTE kullanarak duygu analizi yapar ve sonuçları döner.\"\"\"\n",
        "    # Eğitim ve test setine ayırma\n",
        "    X_train, X_test, y_train, y_test = split_data(df, 'cleaned_review', 'Sentiment')\n",
        "\n",
        "    # TF-IDF vektörleştirme\n",
        "    X_train_tfidf, X_test_tfidf, _ = vectorize_text(X_train, X_test)\n",
        "\n",
        "    # SMOTE ile veri artırımı\n",
        "    X_train_resampled, y_train_resampled = apply_smote(X_train_tfidf, y_train)\n",
        "\n",
        "    # CNN Modelini oluştur\n",
        "    model = Sequential([\n",
        "        Dense(128, activation='relu', input_shape=(X_train_resampled.shape[1],)),\n",
        "        Dense(64, activation='relu'),\n",
        "        Dense(1, activation='sigmoid')  # Binary sınıflandırma için sigmoid\n",
        "    ])\n",
        "\n",
        "    model.compile(optimizer=Adam(), loss='binary_crossentropy', metrics=['accuracy'])\n",
        "\n",
        "    # Modeli eğit\n",
        "    model.fit(\n",
        "        X_train_resampled, y_train_resampled,\n",
        "        epochs=5,\n",
        "        batch_size=64,\n",
        "        validation_data=(X_test_tfidf, y_test)\n",
        "    )\n",
        "\n",
        "    # Test seti üzerinde tahmin yap\n",
        "    y_pred = model.predict(X_test_tfidf)\n",
        "    y_pred = (y_pred > 0.5).astype(int).flatten()  # Sigmoid çıktıyı 0 veya 1'e dönüştür\n",
        "\n",
        "    # Sonuçları yazdır\n",
        "    print(\"CNN with SMOTE Accuracy (Balanced Data):\", accuracy_score(y_test, y_pred))\n",
        "    print(\"CNN with SMOTE Classification Report (Balanced Data):\\n\", classification_report(y_test, y_pred))\n",
        "    print(\"CNN with SMOTE Confusion Matrix (Balanced Data):\\n\", confusion_matrix(y_test, y_pred))\n",
        "\n",
        "    return accuracy, report, cm\n",
        "\n",
        "# CNN analizi SMOTE ile balanced_data kullanılarak\n",
        "accuracy, report, cm = cnn_with_smote_sentiment_analysis_balanced(balanced_data)\n",
        "\n",
        "# Confusion Matrix'i görselleştir\n",
        "plot_confusion_matrix(cm)"
      ]
    },
    {
      "cell_type": "code",
      "execution_count": 17,
      "metadata": {
        "id": "gc1FZmGlEh9O"
      },
      "outputs": [],
      "source": [
        "from gensim.models import Word2Vec\n",
        "import numpy as np\n",
        "\n",
        "def train_word2vec(corpus):\n",
        "    \"\"\"\n",
        "    Word2Vec modelini eğitir ve kelimeler için vektörleri döndürür.\n",
        "    \"\"\"\n",
        "    tokenized_corpus = [text.split() for text in corpus]  # Her yorumu tokenize et\n",
        "    model = Word2Vec(sentences=tokenized_corpus, vector_size=100, window=5, min_count=1, workers=4)\n",
        "    return model\n",
        "\n",
        "def vectorize_text_with_word2vec(texts, model):\n",
        "    \"\"\"\n",
        "    Word2Vec ile metni vektörize eder.\n",
        "    \"\"\"\n",
        "    def average_word_vectors(words, model, vector_size):\n",
        "        # Her kelimenin vektör ortalamasını al\n",
        "        feature_vec = np.zeros((vector_size,), dtype='float32')\n",
        "        n_words = 0\n",
        "        for word in words:\n",
        "            if word in model.wv:\n",
        "                feature_vec = np.add(feature_vec, model.wv[word])\n",
        "                n_words += 1\n",
        "        if n_words > 0:\n",
        "            feature_vec = np.divide(feature_vec, n_words)\n",
        "        return feature_vec\n",
        "\n",
        "    vector_size = model.vector_size\n",
        "    return np.array([average_word_vectors(text.split(), model, vector_size) for text in texts])"
      ]
    },
    {
      "cell_type": "code",
      "execution_count": 18,
      "metadata": {
        "colab": {
          "base_uri": "https://localhost:8080/",
          "height": 901
        },
        "id": "dyFIQOSjAaqo",
        "outputId": "3d0aecb2-860f-4059-af9e-d4fce44a722f"
      },
      "outputs": [
        {
          "output_type": "stream",
          "name": "stderr",
          "text": [
            "/usr/local/lib/python3.10/dist-packages/sklearn/base.py:474: FutureWarning: `BaseEstimator._validate_data` is deprecated in 1.6 and will be removed in 1.7. Use `sklearn.utils.validation.validate_data` instead. This function becomes public and is part of the scikit-learn developer API.\n",
            "  warnings.warn(\n",
            "/usr/local/lib/python3.10/dist-packages/sklearn/utils/_tags.py:354: FutureWarning: The SMOTE or classes from which it inherits use `_get_tags` and `_more_tags`. Please define the `__sklearn_tags__` method, or inherit from `sklearn.base.BaseEstimator` and/or other appropriate mixins such as `sklearn.base.TransformerMixin`, `sklearn.base.ClassifierMixin`, `sklearn.base.RegressorMixin`, and `sklearn.base.OutlierMixin`. From scikit-learn 1.7, not defining `__sklearn_tags__` will raise an error.\n",
            "  warnings.warn(\n"
          ]
        },
        {
          "output_type": "stream",
          "name": "stdout",
          "text": [
            "Word2Vec Sentiment Analysis Accuracy: 0.7755872483221476\n",
            "Word2Vec Sentiment Analysis Classification Report:\n",
            "               precision    recall  f1-score   support\n",
            "\n",
            "           0       0.77      0.79      0.78      1187\n",
            "           1       0.78      0.77      0.77      1197\n",
            "\n",
            "    accuracy                           0.78      2384\n",
            "   macro avg       0.78      0.78      0.78      2384\n",
            "weighted avg       0.78      0.78      0.78      2384\n",
            "\n",
            "Word2Vec Sentiment Analysis Confusion Matrix:\n",
            " [[932 255]\n",
            " [280 917]]\n"
          ]
        },
        {
          "output_type": "display_data",
          "data": {
            "text/plain": [
              "<Figure size 600x600 with 1 Axes>"
            ],
            "image/png": "[encoded data removed]"
          },
          "metadata": {}
        }
      ],
      "source": [
        "from sklearn.linear_model import LogisticRegression\n",
        "from sklearn.metrics import classification_report, accuracy_score, confusion_matrix\n",
        "\n",
        "def word2vec_sentiment_analysis(df):\n",
        "    \"\"\"\n",
        "    Word2Vec ve bir makine öğrenimi modeli ile duygu analizi yapar.\n",
        "    \"\"\"\n",
        "    # Eğitim ve test setine ayırma\n",
        "    X_train, X_test, y_train, y_test = split_data(df, 'cleaned_review', 'Sentiment')\n",
        "\n",
        "    # Word2Vec modelini eğit\n",
        "    word2vec_model = train_word2vec(X_train)\n",
        "\n",
        "    # Word2Vec ile veriyi vektörize et\n",
        "    X_train_vec = vectorize_text_with_word2vec(X_train, word2vec_model)\n",
        "    X_test_vec = vectorize_text_with_word2vec(X_test, word2vec_model)\n",
        "\n",
        "    # SMOTE uygula\n",
        "    X_train_resampled, y_train_resampled = apply_smote(X_train_vec, y_train)\n",
        "\n",
        "    # Model oluştur ve değerlendir\n",
        "    model = LogisticRegression(random_state=42)\n",
        "    accuracy, report, cm = train_and_evaluate_model(model, X_train_resampled, y_train_resampled, X_test_vec, y_test)\n",
        "\n",
        "    return accuracy, report, cm\n",
        "\n",
        "# Word2Vec ile duygu analizi fonksiyonunu çalıştır\n",
        "accuracy_word2vec, report_word2vec, cm_word2vec = word2vec_sentiment_analysis(balanced_data)\n",
        "\n",
        "# Sonuçları yazdır\n",
        "print(\"Word2Vec Sentiment Analysis Accuracy:\", accuracy_word2vec)\n",
        "print(\"Word2Vec Sentiment Analysis Classification Report:\\n\", report_word2vec)\n",
        "print(\"Word2Vec Sentiment Analysis Confusion Matrix:\\n\", cm_word2vec)\n",
        "\n",
        "# Confusion Matrix görselleştirmesi\n",
        "plot_confusion_matrix(cm_word2vec)"
      ]
    },
    {
      "cell_type": "code",
      "execution_count": null,
      "metadata": {
        "colab": {
          "base_uri": "https://localhost:8080/"
        },
        "id": "XY5o752zEW8J",
        "outputId": "730442ac-af11-4b6e-b1e6-987e86f37e9f"
      },
      "outputs": [
        {
          "name": "stderr",
          "output_type": "stream",
          "text": [
            "Some weights of DistilBertForSequenceClassification were not initialized from the model checkpoint at distilbert-base-uncased and are newly initialized: ['classifier.bias', 'classifier.weight', 'pre_classifier.bias', 'pre_classifier.weight']\n",
            "You should probably TRAIN this model on a down-stream task to be able to use it for predictions and inference.\n"
          ]
        }
      ],
      "source": [
        "from transformers import DistilBertTokenizer, DistilBertForSequenceClassification\n",
        "from torch.utils.data import DataLoader, TensorDataset\n",
        "import torch\n",
        "from sklearn.metrics import accuracy_score, classification_report, confusion_matrix\n",
        "import seaborn as sns\n",
        "import matplotlib.pyplot as plt\n",
        "\n",
        "def prepare_bert_data(texts, labels, tokenizer, max_len=96):\n",
        "    \"\"\"BERT için veri hazırlığı: metinleri ve etiketleri tokenlara dönüştürür.\"\"\"\n",
        "    input_ids = []\n",
        "    attention_masks = []\n",
        "\n",
        "    for text in texts:\n",
        "        encoding = tokenizer.encode_plus(\n",
        "            text,\n",
        "            add_special_tokens=True,\n",
        "            max_length=max_len,\n",
        "            padding='max_length',\n",
        "            truncation=True,\n",
        "            return_attention_mask=True,\n",
        "            return_tensors='pt'\n",
        "        )\n",
        "        input_ids.append(encoding['input_ids'])\n",
        "        attention_masks.append(encoding['attention_mask'])\n",
        "\n",
        "    input_ids = torch.cat(input_ids, dim=0)\n",
        "    attention_masks = torch.cat(attention_masks, dim=0)\n",
        "    labels = torch.tensor(labels)\n",
        "\n",
        "    return input_ids, attention_masks, labels\n",
        "\n",
        "def bert_sentiment_analysis(df, batch_size=32, max_len=96, epochs=3, gradient_accumulation_steps=4):\n",
        "    \"\"\"DistilBERT tabanlı sentiment analizi yapar.\"\"\"\n",
        "    tokenizer = DistilBertTokenizer.from_pretrained('distilbert-base-uncased')  # Küçük model\n",
        "    model = DistilBertForSequenceClassification.from_pretrained('distilbert-base-uncased', num_labels=2)\n",
        "\n",
        "    device = torch.device(\"cuda\" if torch.cuda.is_available() else \"cpu\")\n",
        "    model.to(device)\n",
        "\n",
        "    X = df['cleaned_review'].values\n",
        "    y = df['Sentiment'].values\n",
        "\n",
        "    input_ids, attention_masks, labels = prepare_bert_data(X, y, tokenizer, max_len)\n",
        "\n",
        "    train_size = int(0.8 * len(X))\n",
        "    train_inputs, test_inputs = input_ids[:train_size], input_ids[train_size:]\n",
        "    train_masks, test_masks = attention_masks[:train_size], attention_masks[train_size:]\n",
        "    train_labels, test_labels = labels[:train_size], labels[train_size:]\n",
        "\n",
        "    train_data = TensorDataset(train_inputs, train_masks, train_labels)\n",
        "    test_data = TensorDataset(test_inputs, test_masks, test_labels)\n",
        "\n",
        "    train_dataloader = DataLoader(train_data, batch_size=batch_size, shuffle=True)\n",
        "    test_dataloader = DataLoader(test_data, batch_size=batch_size)\n",
        "\n",
        "    class_weights = torch.tensor([1.0, 5.0]).to(device)  # Pozitif sınıf için ağırlık\n",
        "    loss_fn = torch.nn.CrossEntropyLoss(weight=class_weights)\n",
        "\n",
        "    model.train()\n",
        "    optimizer = torch.optim.AdamW(model.parameters(), lr=2e-5)  # Daha düşük öğrenme oranı\n",
        "\n",
        "    for epoch in range(epochs):\n",
        "        total_loss = 0\n",
        "        for step, batch in enumerate(train_dataloader):\n",
        "            input_ids, attention_masks, labels = [item.to(device) for item in batch]\n",
        "            optimizer.zero_grad()\n",
        "            outputs = model(input_ids, attention_mask=attention_masks)\n",
        "            loss = loss_fn(outputs.logits, labels)\n",
        "            total_loss += loss.item()\n",
        "            loss.backward()\n",
        "\n",
        "            if (step + 1) % gradient_accumulation_steps == 0:\n",
        "                optimizer.step()\n",
        "\n",
        "        print(f\"Epoch {epoch + 1}/{epochs}, Loss: {total_loss / len(train_dataloader)}\")\n",
        "\n",
        "    model.eval()\n",
        "    all_preds = []\n",
        "    all_labels = []\n",
        "\n",
        "    for batch in test_dataloader:\n",
        "        input_ids, attention_masks, labels = [item.to(device) for item in batch]\n",
        "        with torch.no_grad():\n",
        "            outputs = model(input_ids, attention_mask=attention_masks)\n",
        "        logits = outputs.logits\n",
        "        preds = torch.argmax(logits, dim=1)\n",
        "        all_preds.extend(preds.cpu().numpy())\n",
        "        all_labels.extend(labels.cpu().numpy())\n",
        "\n",
        "    accuracy = accuracy_score(all_labels, all_preds)\n",
        "    report = classification_report(all_labels, all_preds)\n",
        "    cm = confusion_matrix(all_labels, all_preds)\n",
        "\n",
        "    print(\"BERT Sentiment Accuracy:\", accuracy)\n",
        "    print(\"BERT Sentiment Classification Report:\\n\", report)\n",
        "    print(\"BERT Sentiment Confusion Matrix:\\n\", cm)\n",
        "\n",
        "    return accuracy, report, cm\n",
        "\n",
        "# balanced_data DataFrame'inin önceden tanımlı olduğundan emin olun.\n",
        "accuracy_bert, report_bert, cm_bert = bert_sentiment_analysis(balanced_data)\n",
        "plot_confusion_matrix(cm_bert)"
      ]
    },
    {
      "cell_type": "code",
      "source": [
        "from sklearn.metrics import precision_score, recall_score\n",
        "from sklearn.metrics.pairwise import cosine_similarity\n",
        "from sklearn.feature_extraction.text import TfidfVectorizer\n",
        "from sklearn.metrics import pairwise_distances\n",
        "import numpy as np\n",
        "\n",
        "def evaluate_recommendations(true_labels, predicted_labels):\n",
        "    \"\"\"\n",
        "    Gerçek etiketler (beğeniler) ve tahmin edilen etiketler (öneriler) arasındaki doğruluğu ölçer.\n",
        "    \"\"\"\n",
        "    relevant_recommendations = [item for item in predicted_labels if item in true_labels]\n",
        "    num_relevant_recommendations = len(relevant_recommendations)\n",
        "\n",
        "    precision = num_relevant_recommendations / len(predicted_labels) if len(predicted_labels) > 0 else 0\n",
        "    recall = num_relevant_recommendations / len(true_labels) if len(true_labels) > 0 else 0\n",
        "    accuracy = sum(1 for item in true_labels if item in predicted_labels) / len(true_labels) if len(true_labels) > 0 else 0\n",
        "\n",
        "    print(f\"Precision: {precision}\")\n",
        "    print(f\"Recall: {recall}\")\n",
        "    print(f\"Accuracy: {accuracy}\")\n",
        "\n",
        "def content_based_recommendation(df, user_id, top_n=5):\n",
        "    # Kullanıcıya ait yorumları al\n",
        "    user_reviews = df[df['UserId'] == user_id]\n",
        "\n",
        "    # Temizlenmiş yorumları ve ürün ID'lerini al\n",
        "    user_reviews = user_reviews[['cleaned_review', 'ProductId', 'Sentiment']]\n",
        "\n",
        "    # Boş yorumları kontrol et ve kaldır\n",
        "    user_reviews = user_reviews[user_reviews['cleaned_review'] != '']\n",
        "\n",
        "    # Yeterli yorum yoksa, öneri yapılamaz\n",
        "    if len(user_reviews) == 0:\n",
        "        print(f\"User {user_id} için yeterli yorum bulunamadı. Öneri yapılamıyor.\")\n",
        "        return []\n",
        "\n",
        "    # TF-IDF modelini fit et (hem kullanıcı yorumları hem de tüm ürün yorumları için aynı model)\n",
        "    tfidf_model = TfidfVectorizer(stop_words='english')\n",
        "    all_reviews = df['cleaned_review'].tolist() + user_reviews['cleaned_review'].tolist()\n",
        "    tfidf_matrix_all = tfidf_model.fit_transform(all_reviews)\n",
        "\n",
        "    # Kullanıcı yorumları için vektörleştirme\n",
        "    X_user = tfidf_matrix_all[-len(user_reviews):]\n",
        "\n",
        "    # Tüm ürünlerin yorumları için vektörleştirme\n",
        "    X_all_products = tfidf_matrix_all[:len(df)]\n",
        "\n",
        "    # Kullanıcı yorumları ile tüm ürünler arasındaki benzerlik hesapla\n",
        "    similarities = cosine_similarity(X_user, X_all_products)\n",
        "\n",
        "    # Benzerlikleri yüksekten düşüğe sıralama\n",
        "    top_n_indices = similarities.argsort()[:, -top_n:]\n",
        "\n",
        "    # En benzer ürünlerin ID'lerini al\n",
        "    recommended_product_ids = df['ProductId'].iloc[top_n_indices.flatten()].unique()\n",
        "\n",
        "    # Gerçek beğenileri (yani kullanıcı tarafından beğenilen ürünler) al\n",
        "    true_labels = df[(df['UserId'] == user_id) & (df['Sentiment'] == 1)]['ProductId'].values\n",
        "\n",
        "    # Gerçek ve tahmin edilen etiketler\n",
        "    predicted_labels = recommended_product_ids\n",
        "\n",
        "    # Performansı ölç\n",
        "    evaluate_recommendations(true_labels, predicted_labels)\n",
        "\n",
        "    return recommended_product_ids\n",
        "\n",
        "def collaborative_filtering(df, user_id, top_n=5):\n",
        "    \"\"\"\n",
        "    Kullanıcılar arasındaki benzerliklere dayalı işbirlikçi filtreleme öneri sistemi.\n",
        "    \"\"\"\n",
        "    user_reviews = df[df['UserId'] == user_id]\n",
        "    user_reviews = user_reviews[['ProductId', 'Sentiment']]\n",
        "\n",
        "    # Kullanıcılar arası benzerlik hesaplamak için pivot tablosu oluştur\n",
        "    user_product_matrix = df.pivot_table(index='UserId', columns='ProductId', values='Sentiment', aggfunc='mean').fillna(0)\n",
        "\n",
        "    # Kullanıcılar arasındaki benzerlik matrisi (pearson correlation)\n",
        "    user_similarity = 1 - pairwise_distances(user_product_matrix, metric='cosine')\n",
        "\n",
        "    # Bu kullanıcıya benzer kullanıcıların ID'lerini bul\n",
        "    user_idx = user_product_matrix.index.get_loc(user_id)\n",
        "    similar_users = user_similarity[user_idx].argsort()[-top_n-1:-1][::-1]\n",
        "\n",
        "    # Benzer kullanıcılardan gelen ürünleri öner\n",
        "    similar_user_ids = user_product_matrix.index[similar_users]\n",
        "    recommended_products = []\n",
        "\n",
        "    for similar_user_id in similar_user_ids:\n",
        "        similar_user_reviews = df[df['UserId'] == similar_user_id]\n",
        "        recommended_products.extend(similar_user_reviews['ProductId'].tolist())\n",
        "\n",
        "    recommended_product_ids = list(set(recommended_products))[:top_n]\n",
        "    true_labels = user_reviews[user_reviews['Sentiment'] == 1]['ProductId'].values\n",
        "    predicted_labels = recommended_product_ids\n",
        "\n",
        "    evaluate_recommendations(true_labels, predicted_labels)\n",
        "\n",
        "    return recommended_product_ids\n",
        "\n",
        "# İlk 'UserId' değerini almak\n",
        "user_id = balanced_data['UserId'].iloc[0]\n",
        "print(\"İlk UserId:\", user_id)\n",
        "\n",
        "# Kullanıcı için içerik tabanlı öneriler\n",
        "recommended_product_ids_content = content_based_recommendation(balanced_data, user_id, top_n=5)\n",
        "print(\"İçerik Tabanlı Önerilen Ürünler:\", recommended_product_ids_content)\n",
        "\n",
        "# Kullanıcı için işbirlikçi filtreleme önerileri\n",
        "recommended_product_ids_collaborative = collaborative_filtering(balanced_data, user_id, top_n=5)\n",
        "print(\"İşbirlikçi Filtreleme Önerilen Ürünler:\", recommended_product_ids_collaborative)"
      ],
      "metadata": {
        "colab": {
          "base_uri": "https://localhost:8080/"
        },
        "id": "UDu_BlAx2soX",
        "outputId": "03f9c335-f5dc-4d7f-b7b5-3b92c66eecae"
      },
      "execution_count": 19,
      "outputs": [
        {
          "output_type": "stream",
          "name": "stdout",
          "text": [
            "İlk UserId: A23FXN3MH1F00D\n",
            "Precision: 0.2\n",
            "Recall: 1.0\n",
            "Accuracy: 1.0\n",
            "İçerik Tabanlı Önerilen Ürünler: ['B001EO5Y8Y' 'B00474CSVE' 'B0001ES9FI' 'B005ZBZLT4' 'B007Y59HVM']\n",
            "Precision: 1.0\n",
            "Recall: 1.0\n",
            "Accuracy: 1.0\n",
            "İşbirlikçi Filtreleme Önerilen Ürünler: ['B007Y59HVM']\n"
          ]
        }
      ]
    },
    {
      "cell_type": "code",
      "source": [
        "def hybrid_recommendation(df, user_id, top_n=5, alpha=0.5):\n",
        "    \"\"\"\n",
        "    Hibrit öneri sistemi: İçerik tabanlı ve işbirlikçi filtreleme sonuçlarını birleştirir.\n",
        "    \"\"\"\n",
        "    # İçerik tabanlı öneri sisteminden ürünleri al\n",
        "    content_recommended = content_based_recommendation(df, user_id, top_n=top_n)\n",
        "\n",
        "    # İşbirlikçi filtreleme öneri sisteminden ürünleri al\n",
        "    collaborative_recommended = collaborative_filtering(df, user_id, top_n=top_n)\n",
        "\n",
        "    # İçerik tabanlı ve işbirlikçi filtreleme sonuçlarının kesişimi\n",
        "    hybrid_recommended = list(set(content_recommended).intersection(set(collaborative_recommended)))\n",
        "\n",
        "    # Eğer kesişim yoksa, içerik ve işbirlikçi öneri sonuçlarını ağırlıklı bir şekilde birleştir\n",
        "    if len(hybrid_recommended) == 0:\n",
        "        hybrid_recommended = content_recommended[:int(top_n * alpha)] + collaborative_recommended[:int(top_n * (1 - alpha))]\n",
        "\n",
        "    # Ağırlıklı birleştirilmiş sonuçları döndür\n",
        "    return hybrid_recommended\n",
        "\n",
        "# İlk 'UserId' değerini almak\n",
        "user_id = balanced_data['UserId'].iloc[0]\n",
        "print(\"İlk UserId:\", user_id)\n",
        "\n",
        "# Hibrit öneri sistemi ile ürünleri almak\n",
        "recommended_product_ids_hybrid = hybrid_recommendation(balanced_data, user_id, top_n=5, alpha=0.5)\n",
        "print(\"Hibrit Önerilen Ürünler:\", recommended_product_ids_hybrid)\n",
        "\n",
        "# Hibrit önerilerin performansını ölçmek\n",
        "true_labels = balanced_data[balanced_data['UserId'] == user_id][balanced_data['Sentiment'] == 1]['ProductId'].values\n",
        "predicted_labels = recommended_product_ids_hybrid\n",
        "evaluate_recommendations(true_labels, predicted_labels)"
      ],
      "metadata": {
        "colab": {
          "base_uri": "https://localhost:8080/"
        },
        "id": "PO4P9PJh294e",
        "outputId": "1bb9bd96-6c20-4d01-c70b-6e3abf56fec5"
      },
      "execution_count": 20,
      "outputs": [
        {
          "output_type": "stream",
          "name": "stdout",
          "text": [
            "İlk UserId: A23FXN3MH1F00D\n",
            "Precision: 0.2\n",
            "Recall: 1.0\n",
            "Accuracy: 1.0\n",
            "Precision: 1.0\n",
            "Recall: 1.0\n",
            "Accuracy: 1.0\n",
            "Hibrit Önerilen Ürünler: ['B007Y59HVM']\n",
            "Precision: 1.0\n",
            "Recall: 1.0\n",
            "Accuracy: 1.0\n"
          ]
        },
        {
          "output_type": "stream",
          "name": "stderr",
          "text": [
            "<ipython-input-20-69d5f22a6a1f>:30: UserWarning: Boolean Series key will be reindexed to match DataFrame index.\n",
            "  true_labels = balanced_data[balanced_data['UserId'] == user_id][balanced_data['Sentiment'] == 1]['ProductId'].values\n"
          ]
        }
      ]
    },
    {
      "cell_type": "code",
      "source": [
        "from sklearn.metrics import precision_score, recall_score, accuracy_score\n",
        "import matplotlib.pyplot as plt\n",
        "\n",
        "def plot_metrics_comparison(precision_content, recall_content, accuracy_content,\n",
        "                            precision_collab, recall_collab, accuracy_collab,\n",
        "                            precision_hybrid, recall_hybrid, accuracy_hybrid):\n",
        "    \"\"\"\n",
        "    Precision, recall ve accuracy metriklerini karşılaştıran bir bar grafiği oluşturur.\n",
        "    \"\"\"\n",
        "    metrics = [precision_content, recall_content, accuracy_content,\n",
        "               precision_collab, recall_collab, accuracy_collab,\n",
        "               precision_hybrid, recall_hybrid, accuracy_hybrid]\n",
        "\n",
        "    method_names = ['Content-Based Precision', 'Content-Based Recall', 'Content-Based Accuracy',\n",
        "                    'Collaborative Precision', 'Collaborative Recall', 'Collaborative Accuracy',\n",
        "                    'Hybrid Precision', 'Hybrid Recall', 'Hybrid Accuracy']\n",
        "\n",
        "    fig, ax = plt.subplots(figsize=(12, 8))\n",
        "    ax.barh(method_names, metrics, color=['skyblue', 'lightgreen', 'salmon', 'cyan', 'orange', 'purple', 'pink', 'yellow', 'lightcoral'])\n",
        "    ax.set_xlabel('Metrikler')\n",
        "    ax.set_title('Precision, Recall ve Accuracy Karşılaştırması')\n",
        "\n",
        "    plt.show()\n",
        "\n",
        "# Öneri metriklerinin hesaplanması için\n",
        "def get_recommended_products_for_evaluation(df, user_id, method=\"content\", top_n=5):\n",
        "    \"\"\"\n",
        "    İçerik tabanlı, işbirlikçi veya hibrit öneriler için öneri ürünlerini döndüren fonksiyon.\n",
        "    \"\"\"\n",
        "    if method == \"content\":\n",
        "        predicted_labels = content_based_recommendation(df, user_id, top_n)\n",
        "    elif method == \"collaborative\":\n",
        "        predicted_labels = collaborative_filtering(df, user_id, top_n)\n",
        "    elif method == \"hybrid\":\n",
        "        predicted_labels = hybrid_recommendation(df, user_id, top_n)\n",
        "    else:\n",
        "        raise ValueError(\"Geçersiz yöntem seçimi.\")\n",
        "\n",
        "    # Gerçek etiketler (beğenilen ürünler) almak\n",
        "    true_labels = df[df['UserId'] == user_id][df['Sentiment'] == 1]['ProductId'].values\n",
        "\n",
        "    # Performansı ölçmek için değerlendirme fonksiyonu çağır\n",
        "    return true_labels, predicted_labels\n",
        "\n",
        "# Örnek kullanıcı ID'si\n",
        "user_id = balanced_data['UserId'].iloc[0]\n",
        "\n",
        "# İçerik tabanlı öneri\n",
        "true_labels, content_predicted = get_recommended_products_for_evaluation(balanced_data, user_id, method=\"content\", top_n=5)\n",
        "\n",
        "# İşbirlikçi öneri\n",
        "_, collaborative_predicted = get_recommended_products_for_evaluation(balanced_data, user_id, method=\"collaborative\", top_n=5)\n",
        "\n",
        "# Hibrit öneri\n",
        "_, hybrid_predicted = get_recommended_products_for_evaluation(balanced_data, user_id, method=\"hybrid\", top_n=5)\n",
        "\n",
        "# Binary encoding for Precision, Recall, Accuracy calculation\n",
        "def get_binary_encoding(true_labels, predicted_labels):\n",
        "    binary_true = [1 if item in true_labels else 0 for item in predicted_labels]\n",
        "    return binary_true\n",
        "\n",
        "# Metrik hesaplamaları\n",
        "precision_content = precision_score(get_binary_encoding(true_labels, content_predicted), [1]*len(content_predicted), zero_division=1)\n",
        "recall_content = recall_score(get_binary_encoding(true_labels, content_predicted), [1]*len(content_predicted), zero_division=1)\n",
        "accuracy_content = accuracy_score(get_binary_encoding(true_labels, content_predicted), [1]*len(content_predicted))\n",
        "\n",
        "precision_collab = precision_score(get_binary_encoding(true_labels, collaborative_predicted), [1]*len(collaborative_predicted), zero_division=1)\n",
        "recall_collab = recall_score(get_binary_encoding(true_labels, collaborative_predicted), [1]*len(collaborative_predicted), zero_division=1)\n",
        "accuracy_collab = accuracy_score(get_binary_encoding(true_labels, collaborative_predicted), [1]*len(collaborative_predicted))\n",
        "\n",
        "precision_hybrid = precision_score(get_binary_encoding(true_labels, hybrid_predicted), [1]*len(hybrid_predicted), zero_division=1)\n",
        "recall_hybrid = recall_score(get_binary_encoding(true_labels, hybrid_predicted), [1]*len(hybrid_predicted), zero_division=1)\n",
        "accuracy_hybrid = accuracy_score(get_binary_encoding(true_labels, hybrid_predicted), [1]*len(hybrid_predicted))\n",
        "\n",
        "# Görselleştirme\n",
        "plot_metrics_comparison(precision_content, recall_content, accuracy_content,\n",
        "                        precision_collab, recall_collab, accuracy_collab,\n",
        "                        precision_hybrid, recall_hybrid, accuracy_hybrid)"
      ],
      "metadata": {
        "colab": {
          "base_uri": "https://localhost:8080/",
          "height": 1000
        },
        "id": "9BMcYWG-4zBG",
        "outputId": "05bd4982-5c21-4a39-8015-5ddb5d02a195"
      },
      "execution_count": 21,
      "outputs": [
        {
          "output_type": "stream",
          "name": "stdout",
          "text": [
            "Precision: 0.2\n",
            "Recall: 1.0\n",
            "Accuracy: 1.0\n"
          ]
        },
        {
          "output_type": "stream",
          "name": "stderr",
          "text": [
            "<ipython-input-21-4be2eeac0a88>:40: UserWarning: Boolean Series key will be reindexed to match DataFrame index.\n",
            "  true_labels = df[df['UserId'] == user_id][df['Sentiment'] == 1]['ProductId'].values\n"
          ]
        },
        {
          "output_type": "stream",
          "name": "stdout",
          "text": [
            "Precision: 1.0\n",
            "Recall: 1.0\n",
            "Accuracy: 1.0\n"
          ]
        },
        {
          "output_type": "stream",
          "name": "stderr",
          "text": [
            "<ipython-input-21-4be2eeac0a88>:40: UserWarning: Boolean Series key will be reindexed to match DataFrame index.\n",
            "  true_labels = df[df['UserId'] == user_id][df['Sentiment'] == 1]['ProductId'].values\n"
          ]
        },
        {
          "output_type": "stream",
          "name": "stdout",
          "text": [
            "Precision: 0.2\n",
            "Recall: 1.0\n",
            "Accuracy: 1.0\n",
            "Precision: 1.0\n",
            "Recall: 1.0\n",
            "Accuracy: 1.0\n"
          ]
        },
        {
          "output_type": "stream",
          "name": "stderr",
          "text": [
            "<ipython-input-21-4be2eeac0a88>:40: UserWarning: Boolean Series key will be reindexed to match DataFrame index.\n",
            "  true_labels = df[df['UserId'] == user_id][df['Sentiment'] == 1]['ProductId'].values\n"
          ]
        },
        {
          "output_type": "display_data",
          "data": {
            "text/plain": [
              "<Figure size 1200x800 with 1 Axes>"
            ],
            "image/png": "[encoded data removed]"
          },
          "metadata": {}
        }
      ]
    },
    {
      "cell_type": "code",
      "source": [
        "from collections import Counter\n",
        "\n",
        "def plot_recommended_products_distribution(content_predicted, collaborative_predicted, hybrid_predicted):\n",
        "    \"\"\"\n",
        "    Üç farklı öneri yöntemine göre önerilen ürünlerin dağılımını gösterir.\n",
        "    \"\"\"\n",
        "    # Ürünlerin sayısını say\n",
        "    content_product_counts = Counter(content_predicted)\n",
        "    collaborative_product_counts = Counter(collaborative_predicted)\n",
        "    hybrid_product_counts = Counter(hybrid_predicted)\n",
        "\n",
        "    # Ürünleri ve sayıları al\n",
        "    content_products, content_counts = zip(*content_product_counts.items())\n",
        "    collaborative_products, collaborative_counts = zip(*collaborative_product_counts.items())\n",
        "    hybrid_products, hybrid_counts = zip(*hybrid_product_counts.items())\n",
        "\n",
        "    # Grafiği oluştur\n",
        "    fig, ax = plt.subplots(figsize=(12, 8))\n",
        "\n",
        "    ax.bar(content_products, content_counts, label=\"Content-Based\", color='skyblue', alpha=0.6)\n",
        "    ax.bar(collaborative_products, collaborative_counts, label=\"Collaborative\", color='lightgreen', alpha=0.6)\n",
        "    ax.bar(hybrid_products, hybrid_counts, label=\"Hybrid\", color='salmon', alpha=0.6)\n",
        "\n",
        "    ax.set_xlabel('Ürün ID\\'leri')\n",
        "    ax.set_ylabel('Önerilen Ürün Sayısı')\n",
        "    ax.set_title('Önerilen Ürünlerin Dağılımı')\n",
        "    ax.legend()\n",
        "\n",
        "    plt.xticks(rotation=90)\n",
        "    plt.show()\n",
        "\n",
        "# Dinamik olarak öneri sistemlerinin çıktısını almak\n",
        "content_predicted = content_based_recommendation(balanced_data, user_id, top_n=5)\n",
        "collaborative_predicted = collaborative_filtering(balanced_data, user_id, top_n=5)\n",
        "hybrid_predicted = hybrid_recommendation(balanced_data, user_id, top_n=5)\n",
        "\n",
        "# Görselleştirme\n",
        "plot_recommended_products_distribution(content_predicted, collaborative_predicted, hybrid_predicted)"
      ],
      "metadata": {
        "colab": {
          "base_uri": "https://localhost:8080/",
          "height": 1000
        },
        "id": "Ht94dmSt5n8x",
        "outputId": "71f00c82-5acf-4e5c-860f-5fe6663b54e8"
      },
      "execution_count": 22,
      "outputs": [
        {
          "output_type": "stream",
          "name": "stdout",
          "text": [
            "Precision: 0.2\n",
            "Recall: 1.0\n",
            "Accuracy: 1.0\n",
            "Precision: 1.0\n",
            "Recall: 1.0\n",
            "Accuracy: 1.0\n",
            "Precision: 0.2\n",
            "Recall: 1.0\n",
            "Accuracy: 1.0\n",
            "Precision: 1.0\n",
            "Recall: 1.0\n",
            "Accuracy: 1.0\n"
          ]
        },
        {
          "output_type": "display_data",
          "data": {
            "text/plain": [
              "<Figure size 1200x800 with 1 Axes>"
            ],
            "image/png": "[encoded data removed]"
          },
          "metadata": {}
        }
      ]
    }
  ],
  "metadata": {
    "colab": {
      "provenance": [],
      "authorship_tag": "ABX9TyOoCQrb6lYYgnBXdVGw4Psq",
      "include_colab_link": true
    },
    "kernelspec": {
      "display_name": "Python 3",
      "name": "python3"
    },
    "language_info": {
      "name": "python"
    }
  },
  "nbformat": 4,
  "nbformat_minor": 0
}